{
  "nbformat": 4,
  "nbformat_minor": 0,
  "metadata": {
    "colab": {
      "provenance": []
    },
    "kernelspec": {
      "name": "python3",
      "display_name": "Python 3"
    },
    "language_info": {
      "name": "python"
    }
  },
  "cells": [
    {
      "cell_type": "markdown",
      "source": [
        "#<font color='#f1863d'> **Aprendizado de máquina (ML): conhecendo o classificador Naive Bayes e a biblioteca Sklearn**"
      ],
      "metadata": {
        "id": "QVWdH1r-mcGL"
      }
    },
    {
      "cell_type": "markdown",
      "source": [
        "O nome \"Naive Bayes\" é um termo genérico que se refere apenas a característica mais geral do classificador (isto é, a ingênua suposição de que as features são todas independentes entre si e igualmente importantes), não especificando, portanto, o tipo de distribuição assumida pelas features, que podem ser tanto contínuas quanto discretas. Por tal motivo, o Naive Bayes pode ser encontrado em três diferentes versões: Naive Bayes Multinomial (para dados discretos), Naive Bayes Gaussiano (para dados contínuos) e Naive Bayes de Bernoulli (para dados booleanos).\n",
        "\n",
        "Para tratar dados de língua, geralmente opta-se pelo Naive Bayes Multinomial, que, embora mais simples e limitado, serve para dados que não podem ser representados numericamente, sendo, por isso, muito utilizado em problemas de classificação de texto.\n",
        "\n",
        "A ideia seguida por tal algoritmo é bastante simples:\n",
        "\n",
        "- Primeiro, quando nossos dados são textuais, os transformamos em suas versões numéricas;\n",
        "- Depois, com os dados de treino, encontramos as probabilidades condicionais P(A|B) = P(A∩B) / P(B) -> P(palavra|classe) = P(palavra∩classe) / P(classe);\n",
        "- Por último, sabendo quais as probabilidades de cada palavra pertencer às diferentes classe, encontramos qual a probabilidade de uma frase pertencer a uma determinada classe, considerando apenas as palavras que a compõem."
      ],
      "metadata": {
        "id": "Mbs4gnbJHqDf"
      }
    },
    {
      "cell_type": "markdown",
      "source": [
        "Esta é a ideia geral do algoritmo Naive Bayes, e, embora ela possa parecer um tanto complicada, a sua aplicação é muito simples! Veja como é fácil implementar nosso modelo a partir da biblioteca Sklearn:"
      ],
      "metadata": {
        "id": "vlcNVJcguUAn"
      }
    },
    {
      "cell_type": "markdown",
      "source": [
        "\n",
        "\n",
        "```\n",
        "# Para importar as dependências necessárias:\n",
        "from sklearn.feature_extraction.text import TfidfVectorizer\n",
        "from sklearn.naive_bayes import MultinomialNB\n",
        "from sklearn.pipeline import make_pipeline\n",
        "\n",
        "# Para criar o modelo:\n",
        "model = make_pipeline(TfidfVectorizer(), MultinomialNB())\n",
        "\n",
        "# Para treinar o modelo com os dados de treino:\n",
        "model.fit(*dados_de_treino, *labels_dos_dados_de_treino)\n",
        "\n",
        "# Para predizer as categorias dos dados de teste:\n",
        "predicted_categories = model.predict(*dados_de_teste)\n",
        "```\n",
        "\n"
      ],
      "metadata": {
        "id": "jXfygfFdv3Yf"
      }
    },
    {
      "cell_type": "markdown",
      "source": [
        "E pronto! Com essas poucas linhas de código, os nossos dados de teste estariam rotulados. Restaría-nos, é claro, conferir o desempenho do nosso classificador a partir do uso de diferentes métricas de avaliação para que pudéssemos realizar alterações em nosso algoritmo, caso necessário. Mas essa etapa também é bastante simples: basta escolher algumas métricas de \"sklearn.metrics\" para realizar a checagem."
      ],
      "metadata": {
        "id": "teYoj8oJwTQu"
      }
    },
    {
      "cell_type": "markdown",
      "source": [
        "#<font color='#f1863d'> **Aplicação com corpus de brinquedo**"
      ],
      "metadata": {
        "id": "e77r_mgSm0zb"
      }
    },
    {
      "cell_type": "markdown",
      "source": [
        "##<font color='#0660a2'> **Introdução**"
      ],
      "metadata": {
        "id": "txBLO0WN7Xbi"
      }
    },
    {
      "cell_type": "markdown",
      "source": [
        "Agora que já vimos alguns conceitos básicos de NLP e ML e ainda aprendemos a utilizar algumas bibliotecas dessas áreas, vamos aplicar nossos conhecimentos na resolução de um problema. Primeiro, vamos iniciar a leitura das bibliotecas necessárias:"
      ],
      "metadata": {
        "id": "I6yk5psCnI6v"
      }
    },
    {
      "cell_type": "code",
      "source": [
        "# Importando as bibliotecas necessárias:\n",
        "import pandas as pd\n",
        "import matplotlib.pyplot as plt\n",
        "import seaborn as sns\n",
        "import numpy as np\n",
        "import nltk"
      ],
      "metadata": {
        "id": "tyNJ648e7p76"
      },
      "execution_count": 1,
      "outputs": []
    },
    {
      "cell_type": "markdown",
      "source": [
        "Vamos apresentar o nosso dataset:"
      ],
      "metadata": {
        "id": "5h8DIB6X8J4r"
      }
    },
    {
      "cell_type": "code",
      "source": [
        "# Lendo o dataset:\n",
        "df = pd.read_csv('Propagandas_LIMPAS.csv', index_col=0)    # Lembre-se de abrir o dataset em sua versão LIMPA!\n",
        "df.reset_index(inplace = True)    # Deixa os índices no tipo [0, 1, ..., N-1].\n",
        "df.head()"
      ],
      "metadata": {
        "id": "idX5KyX17wtT",
        "colab": {
          "base_uri": "https://localhost:8080/",
          "height": 206
        },
        "outputId": "ecb8979b-5214-4712-c4a7-246e3eba91b2"
      },
      "execution_count": 8,
      "outputs": [
        {
          "output_type": "execute_result",
          "data": {
            "text/plain": [
              "                                         Transcrição  Label\n",
              "0  adoro porque deixa pele macia gosto porque dei...      1\n",
              "1  uso deixa pele assim macia suave gostosa agora...      1\n",
              "2  chegaram novas fragrancias inspiradas tradicao...      1\n",
              "3  dizem jeitos romanticos declarar amor colocar ...      1\n",
              "4  deixa pele macia cheirosa gostosa principalmen...      1"
            ],
            "text/html": [
              "\n",
              "  <div id=\"df-e761b928-dfbf-429e-92f4-2649ac655510\" class=\"colab-df-container\">\n",
              "    <div>\n",
              "<style scoped>\n",
              "    .dataframe tbody tr th:only-of-type {\n",
              "        vertical-align: middle;\n",
              "    }\n",
              "\n",
              "    .dataframe tbody tr th {\n",
              "        vertical-align: top;\n",
              "    }\n",
              "\n",
              "    .dataframe thead th {\n",
              "        text-align: right;\n",
              "    }\n",
              "</style>\n",
              "<table border=\"1\" class=\"dataframe\">\n",
              "  <thead>\n",
              "    <tr style=\"text-align: right;\">\n",
              "      <th></th>\n",
              "      <th>Transcrição</th>\n",
              "      <th>Label</th>\n",
              "    </tr>\n",
              "  </thead>\n",
              "  <tbody>\n",
              "    <tr>\n",
              "      <th>0</th>\n",
              "      <td>adoro porque deixa pele macia gosto porque dei...</td>\n",
              "      <td>1</td>\n",
              "    </tr>\n",
              "    <tr>\n",
              "      <th>1</th>\n",
              "      <td>uso deixa pele assim macia suave gostosa agora...</td>\n",
              "      <td>1</td>\n",
              "    </tr>\n",
              "    <tr>\n",
              "      <th>2</th>\n",
              "      <td>chegaram novas fragrancias inspiradas tradicao...</td>\n",
              "      <td>1</td>\n",
              "    </tr>\n",
              "    <tr>\n",
              "      <th>3</th>\n",
              "      <td>dizem jeitos romanticos declarar amor colocar ...</td>\n",
              "      <td>1</td>\n",
              "    </tr>\n",
              "    <tr>\n",
              "      <th>4</th>\n",
              "      <td>deixa pele macia cheirosa gostosa principalmen...</td>\n",
              "      <td>1</td>\n",
              "    </tr>\n",
              "  </tbody>\n",
              "</table>\n",
              "</div>\n",
              "    <div class=\"colab-df-buttons\">\n",
              "\n",
              "  <div class=\"colab-df-container\">\n",
              "    <button class=\"colab-df-convert\" onclick=\"convertToInteractive('df-e761b928-dfbf-429e-92f4-2649ac655510')\"\n",
              "            title=\"Convert this dataframe to an interactive table.\"\n",
              "            style=\"display:none;\">\n",
              "\n",
              "  <svg xmlns=\"http://www.w3.org/2000/svg\" height=\"24px\" viewBox=\"0 -960 960 960\">\n",
              "    <path d=\"M120-120v-720h720v720H120Zm60-500h600v-160H180v160Zm220 220h160v-160H400v160Zm0 220h160v-160H400v160ZM180-400h160v-160H180v160Zm440 0h160v-160H620v160ZM180-180h160v-160H180v160Zm440 0h160v-160H620v160Z\"/>\n",
              "  </svg>\n",
              "    </button>\n",
              "\n",
              "  <style>\n",
              "    .colab-df-container {\n",
              "      display:flex;\n",
              "      gap: 12px;\n",
              "    }\n",
              "\n",
              "    .colab-df-convert {\n",
              "      background-color: #E8F0FE;\n",
              "      border: none;\n",
              "      border-radius: 50%;\n",
              "      cursor: pointer;\n",
              "      display: none;\n",
              "      fill: #1967D2;\n",
              "      height: 32px;\n",
              "      padding: 0 0 0 0;\n",
              "      width: 32px;\n",
              "    }\n",
              "\n",
              "    .colab-df-convert:hover {\n",
              "      background-color: #E2EBFA;\n",
              "      box-shadow: 0px 1px 2px rgba(60, 64, 67, 0.3), 0px 1px 3px 1px rgba(60, 64, 67, 0.15);\n",
              "      fill: #174EA6;\n",
              "    }\n",
              "\n",
              "    .colab-df-buttons div {\n",
              "      margin-bottom: 4px;\n",
              "    }\n",
              "\n",
              "    [theme=dark] .colab-df-convert {\n",
              "      background-color: #3B4455;\n",
              "      fill: #D2E3FC;\n",
              "    }\n",
              "\n",
              "    [theme=dark] .colab-df-convert:hover {\n",
              "      background-color: #434B5C;\n",
              "      box-shadow: 0px 1px 3px 1px rgba(0, 0, 0, 0.15);\n",
              "      filter: drop-shadow(0px 1px 2px rgba(0, 0, 0, 0.3));\n",
              "      fill: #FFFFFF;\n",
              "    }\n",
              "  </style>\n",
              "\n",
              "    <script>\n",
              "      const buttonEl =\n",
              "        document.querySelector('#df-e761b928-dfbf-429e-92f4-2649ac655510 button.colab-df-convert');\n",
              "      buttonEl.style.display =\n",
              "        google.colab.kernel.accessAllowed ? 'block' : 'none';\n",
              "\n",
              "      async function convertToInteractive(key) {\n",
              "        const element = document.querySelector('#df-e761b928-dfbf-429e-92f4-2649ac655510');\n",
              "        const dataTable =\n",
              "          await google.colab.kernel.invokeFunction('convertToInteractive',\n",
              "                                                    [key], {});\n",
              "        if (!dataTable) return;\n",
              "\n",
              "        const docLinkHtml = 'Like what you see? Visit the ' +\n",
              "          '<a target=\"_blank\" href=https://colab.research.google.com/notebooks/data_table.ipynb>data table notebook</a>'\n",
              "          + ' to learn more about interactive tables.';\n",
              "        element.innerHTML = '';\n",
              "        dataTable['output_type'] = 'display_data';\n",
              "        await google.colab.output.renderOutput(dataTable, element);\n",
              "        const docLink = document.createElement('div');\n",
              "        docLink.innerHTML = docLinkHtml;\n",
              "        element.appendChild(docLink);\n",
              "      }\n",
              "    </script>\n",
              "  </div>\n",
              "\n",
              "\n",
              "<div id=\"df-dac89a4a-838c-4768-9f26-3c72bb9eb015\">\n",
              "  <button class=\"colab-df-quickchart\" onclick=\"quickchart('df-dac89a4a-838c-4768-9f26-3c72bb9eb015')\"\n",
              "            title=\"Suggest charts\"\n",
              "            style=\"display:none;\">\n",
              "\n",
              "<svg xmlns=\"http://www.w3.org/2000/svg\" height=\"24px\"viewBox=\"0 0 24 24\"\n",
              "     width=\"24px\">\n",
              "    <g>\n",
              "        <path d=\"M19 3H5c-1.1 0-2 .9-2 2v14c0 1.1.9 2 2 2h14c1.1 0 2-.9 2-2V5c0-1.1-.9-2-2-2zM9 17H7v-7h2v7zm4 0h-2V7h2v10zm4 0h-2v-4h2v4z\"/>\n",
              "    </g>\n",
              "</svg>\n",
              "  </button>\n",
              "\n",
              "<style>\n",
              "  .colab-df-quickchart {\n",
              "      --bg-color: #E8F0FE;\n",
              "      --fill-color: #1967D2;\n",
              "      --hover-bg-color: #E2EBFA;\n",
              "      --hover-fill-color: #174EA6;\n",
              "      --disabled-fill-color: #AAA;\n",
              "      --disabled-bg-color: #DDD;\n",
              "  }\n",
              "\n",
              "  [theme=dark] .colab-df-quickchart {\n",
              "      --bg-color: #3B4455;\n",
              "      --fill-color: #D2E3FC;\n",
              "      --hover-bg-color: #434B5C;\n",
              "      --hover-fill-color: #FFFFFF;\n",
              "      --disabled-bg-color: #3B4455;\n",
              "      --disabled-fill-color: #666;\n",
              "  }\n",
              "\n",
              "  .colab-df-quickchart {\n",
              "    background-color: var(--bg-color);\n",
              "    border: none;\n",
              "    border-radius: 50%;\n",
              "    cursor: pointer;\n",
              "    display: none;\n",
              "    fill: var(--fill-color);\n",
              "    height: 32px;\n",
              "    padding: 0;\n",
              "    width: 32px;\n",
              "  }\n",
              "\n",
              "  .colab-df-quickchart:hover {\n",
              "    background-color: var(--hover-bg-color);\n",
              "    box-shadow: 0 1px 2px rgba(60, 64, 67, 0.3), 0 1px 3px 1px rgba(60, 64, 67, 0.15);\n",
              "    fill: var(--button-hover-fill-color);\n",
              "  }\n",
              "\n",
              "  .colab-df-quickchart-complete:disabled,\n",
              "  .colab-df-quickchart-complete:disabled:hover {\n",
              "    background-color: var(--disabled-bg-color);\n",
              "    fill: var(--disabled-fill-color);\n",
              "    box-shadow: none;\n",
              "  }\n",
              "\n",
              "  .colab-df-spinner {\n",
              "    border: 2px solid var(--fill-color);\n",
              "    border-color: transparent;\n",
              "    border-bottom-color: var(--fill-color);\n",
              "    animation:\n",
              "      spin 1s steps(1) infinite;\n",
              "  }\n",
              "\n",
              "  @keyframes spin {\n",
              "    0% {\n",
              "      border-color: transparent;\n",
              "      border-bottom-color: var(--fill-color);\n",
              "      border-left-color: var(--fill-color);\n",
              "    }\n",
              "    20% {\n",
              "      border-color: transparent;\n",
              "      border-left-color: var(--fill-color);\n",
              "      border-top-color: var(--fill-color);\n",
              "    }\n",
              "    30% {\n",
              "      border-color: transparent;\n",
              "      border-left-color: var(--fill-color);\n",
              "      border-top-color: var(--fill-color);\n",
              "      border-right-color: var(--fill-color);\n",
              "    }\n",
              "    40% {\n",
              "      border-color: transparent;\n",
              "      border-right-color: var(--fill-color);\n",
              "      border-top-color: var(--fill-color);\n",
              "    }\n",
              "    60% {\n",
              "      border-color: transparent;\n",
              "      border-right-color: var(--fill-color);\n",
              "    }\n",
              "    80% {\n",
              "      border-color: transparent;\n",
              "      border-right-color: var(--fill-color);\n",
              "      border-bottom-color: var(--fill-color);\n",
              "    }\n",
              "    90% {\n",
              "      border-color: transparent;\n",
              "      border-bottom-color: var(--fill-color);\n",
              "    }\n",
              "  }\n",
              "</style>\n",
              "\n",
              "  <script>\n",
              "    async function quickchart(key) {\n",
              "      const quickchartButtonEl =\n",
              "        document.querySelector('#' + key + ' button');\n",
              "      quickchartButtonEl.disabled = true;  // To prevent multiple clicks.\n",
              "      quickchartButtonEl.classList.add('colab-df-spinner');\n",
              "      try {\n",
              "        const charts = await google.colab.kernel.invokeFunction(\n",
              "            'suggestCharts', [key], {});\n",
              "      } catch (error) {\n",
              "        console.error('Error during call to suggestCharts:', error);\n",
              "      }\n",
              "      quickchartButtonEl.classList.remove('colab-df-spinner');\n",
              "      quickchartButtonEl.classList.add('colab-df-quickchart-complete');\n",
              "    }\n",
              "    (() => {\n",
              "      let quickchartButtonEl =\n",
              "        document.querySelector('#df-dac89a4a-838c-4768-9f26-3c72bb9eb015 button');\n",
              "      quickchartButtonEl.style.display =\n",
              "        google.colab.kernel.accessAllowed ? 'block' : 'none';\n",
              "    })();\n",
              "  </script>\n",
              "</div>\n",
              "    </div>\n",
              "  </div>\n"
            ]
          },
          "metadata": {},
          "execution_count": 8
        }
      ]
    },
    {
      "cell_type": "markdown",
      "source": [
        "Temos, novamente, nosso conjunto de publicidades voltadas ao público feminino ou masculino, que foi visto na primeira parte do workshop.\n",
        "\n",
        "A nossa tarefa será a de criar um classificador que rotule nossos dados corretamente. Repare: o conteúdo de cada comercial parece ser estereotipado de acordo com o seu público-alvo; assim, considerando o que vimos nesse curso, poderemos facilmente criar tal classificador com a técnica \"Bag-of-Words\" e o modelo \"Naive Bayes\"!\n",
        "\n",
        "Vale mencionar que, embora o corpus aqui apresentado seja muito mais simples do que normalmente encontramos em casos reais, as técnicas apresentadas podem, sim, serem usadas para aplicações concretas! Inclusive, em breve vocês desenvolverão um detector de spam seguindo os mesmos passos que serão aqui apresentados  :)\n",
        "\n",
        "Enfim, vamos à aplicação:"
      ],
      "metadata": {
        "id": "bF5GKxTdn4fI"
      }
    },
    {
      "cell_type": "markdown",
      "source": [
        "##<font color='#0660a2'> **Pré-processamento dos dados**"
      ],
      "metadata": {
        "id": "1LUqDuxunJLV"
      }
    },
    {
      "cell_type": "markdown",
      "source": [
        "Embora essa versão dos dados esteja quase completamente pré-processada, podemos perceber que as frases não foram lematizadas nem stemizadas, e também não foi gerado o bag-of-words. Então, como uma pequena revisão, vamos realizar esses passos:"
      ],
      "metadata": {
        "id": "uvwxAH9j4vDM"
      }
    },
    {
      "cell_type": "code",
      "source": [
        "# Tokenizando os dados para realizar a stemização e lematização:\n",
        "from nltk.tokenize import word_tokenize  # Para dividir em palavras.\n",
        "nltk.download('punkt')   # Modelo treinado para identificar os pontos nos quais uma sentença ou palavra termina e outra começa, garantindo uma tokenização inteligente.\n",
        "df['Transcrição'] = df['Transcrição'].apply(word_tokenize)\n",
        "\n",
        "# Stemizando nosso texto com o LancasterStemmer (repare que estamos usando um stemmer diferente da primeira aula! Este é mais \"agressivo\"):\n",
        "lancaster = nltk.LancasterStemmer()\n",
        "lancaster_list = []\n",
        "for i in range(len(df.Transcrição)):\n",
        "    lancaster_tokens = []\n",
        "    for word in df.Transcrição[i]:\n",
        "        lancaster_tokens.append(lancaster.stem(word))\n",
        "    lancaster_list.append(lancaster_tokens)\n",
        "\n",
        "# Juntando a lista de listas de palavras em uma lista de sentenças:\n",
        "lancaster_text = []\n",
        "for i in lancaster_list:\n",
        "     lancaster_text.append(' '.join(i))\n",
        "\n",
        "# Substituindo nossos valores antigos de \"Transcrição\" pelas novas frases stemizadas:\n",
        "df.Transcrição = lancaster_text"
      ],
      "metadata": {
        "id": "gANPhBqHL3mN",
        "colab": {
          "base_uri": "https://localhost:8080/"
        },
        "outputId": "81d6b57b-005e-4df0-c267-f52ec470b535"
      },
      "execution_count": 9,
      "outputs": [
        {
          "output_type": "stream",
          "name": "stderr",
          "text": [
            "[nltk_data] Downloading package punkt to /root/nltk_data...\n",
            "[nltk_data]   Unzipping tokenizers/punkt.zip.\n"
          ]
        }
      ]
    },
    {
      "cell_type": "code",
      "source": [
        "df.head()"
      ],
      "metadata": {
        "colab": {
          "base_uri": "https://localhost:8080/",
          "height": 206
        },
        "id": "mQIGp0wW6I0Q",
        "outputId": "bdbe0148-3dd8-4598-9c2a-36c6cea1e76c"
      },
      "execution_count": 10,
      "outputs": [
        {
          "output_type": "execute_result",
          "data": {
            "text/plain": [
              "                                         Transcrição  Label\n",
              "0  adoro porqu deix pel mac gosto porqu deix pel ...      1\n",
              "1  uso deix pel assim mac suav gostos agor novo p...      1\n",
              "2  chegaram nova fragrancia inspirada tradicao or...      1\n",
              "3  dizem jeito romantico declar am coloc verso pe...      1\n",
              "4  deix pel mac cheiros gostos princip hidratad v...      1"
            ],
            "text/html": [
              "\n",
              "  <div id=\"df-f153e1c3-d61a-495b-b8ba-28dde52cc478\" class=\"colab-df-container\">\n",
              "    <div>\n",
              "<style scoped>\n",
              "    .dataframe tbody tr th:only-of-type {\n",
              "        vertical-align: middle;\n",
              "    }\n",
              "\n",
              "    .dataframe tbody tr th {\n",
              "        vertical-align: top;\n",
              "    }\n",
              "\n",
              "    .dataframe thead th {\n",
              "        text-align: right;\n",
              "    }\n",
              "</style>\n",
              "<table border=\"1\" class=\"dataframe\">\n",
              "  <thead>\n",
              "    <tr style=\"text-align: right;\">\n",
              "      <th></th>\n",
              "      <th>Transcrição</th>\n",
              "      <th>Label</th>\n",
              "    </tr>\n",
              "  </thead>\n",
              "  <tbody>\n",
              "    <tr>\n",
              "      <th>0</th>\n",
              "      <td>adoro porqu deix pel mac gosto porqu deix pel ...</td>\n",
              "      <td>1</td>\n",
              "    </tr>\n",
              "    <tr>\n",
              "      <th>1</th>\n",
              "      <td>uso deix pel assim mac suav gostos agor novo p...</td>\n",
              "      <td>1</td>\n",
              "    </tr>\n",
              "    <tr>\n",
              "      <th>2</th>\n",
              "      <td>chegaram nova fragrancia inspirada tradicao or...</td>\n",
              "      <td>1</td>\n",
              "    </tr>\n",
              "    <tr>\n",
              "      <th>3</th>\n",
              "      <td>dizem jeito romantico declar am coloc verso pe...</td>\n",
              "      <td>1</td>\n",
              "    </tr>\n",
              "    <tr>\n",
              "      <th>4</th>\n",
              "      <td>deix pel mac cheiros gostos princip hidratad v...</td>\n",
              "      <td>1</td>\n",
              "    </tr>\n",
              "  </tbody>\n",
              "</table>\n",
              "</div>\n",
              "    <div class=\"colab-df-buttons\">\n",
              "\n",
              "  <div class=\"colab-df-container\">\n",
              "    <button class=\"colab-df-convert\" onclick=\"convertToInteractive('df-f153e1c3-d61a-495b-b8ba-28dde52cc478')\"\n",
              "            title=\"Convert this dataframe to an interactive table.\"\n",
              "            style=\"display:none;\">\n",
              "\n",
              "  <svg xmlns=\"http://www.w3.org/2000/svg\" height=\"24px\" viewBox=\"0 -960 960 960\">\n",
              "    <path d=\"M120-120v-720h720v720H120Zm60-500h600v-160H180v160Zm220 220h160v-160H400v160Zm0 220h160v-160H400v160ZM180-400h160v-160H180v160Zm440 0h160v-160H620v160ZM180-180h160v-160H180v160Zm440 0h160v-160H620v160Z\"/>\n",
              "  </svg>\n",
              "    </button>\n",
              "\n",
              "  <style>\n",
              "    .colab-df-container {\n",
              "      display:flex;\n",
              "      gap: 12px;\n",
              "    }\n",
              "\n",
              "    .colab-df-convert {\n",
              "      background-color: #E8F0FE;\n",
              "      border: none;\n",
              "      border-radius: 50%;\n",
              "      cursor: pointer;\n",
              "      display: none;\n",
              "      fill: #1967D2;\n",
              "      height: 32px;\n",
              "      padding: 0 0 0 0;\n",
              "      width: 32px;\n",
              "    }\n",
              "\n",
              "    .colab-df-convert:hover {\n",
              "      background-color: #E2EBFA;\n",
              "      box-shadow: 0px 1px 2px rgba(60, 64, 67, 0.3), 0px 1px 3px 1px rgba(60, 64, 67, 0.15);\n",
              "      fill: #174EA6;\n",
              "    }\n",
              "\n",
              "    .colab-df-buttons div {\n",
              "      margin-bottom: 4px;\n",
              "    }\n",
              "\n",
              "    [theme=dark] .colab-df-convert {\n",
              "      background-color: #3B4455;\n",
              "      fill: #D2E3FC;\n",
              "    }\n",
              "\n",
              "    [theme=dark] .colab-df-convert:hover {\n",
              "      background-color: #434B5C;\n",
              "      box-shadow: 0px 1px 3px 1px rgba(0, 0, 0, 0.15);\n",
              "      filter: drop-shadow(0px 1px 2px rgba(0, 0, 0, 0.3));\n",
              "      fill: #FFFFFF;\n",
              "    }\n",
              "  </style>\n",
              "\n",
              "    <script>\n",
              "      const buttonEl =\n",
              "        document.querySelector('#df-f153e1c3-d61a-495b-b8ba-28dde52cc478 button.colab-df-convert');\n",
              "      buttonEl.style.display =\n",
              "        google.colab.kernel.accessAllowed ? 'block' : 'none';\n",
              "\n",
              "      async function convertToInteractive(key) {\n",
              "        const element = document.querySelector('#df-f153e1c3-d61a-495b-b8ba-28dde52cc478');\n",
              "        const dataTable =\n",
              "          await google.colab.kernel.invokeFunction('convertToInteractive',\n",
              "                                                    [key], {});\n",
              "        if (!dataTable) return;\n",
              "\n",
              "        const docLinkHtml = 'Like what you see? Visit the ' +\n",
              "          '<a target=\"_blank\" href=https://colab.research.google.com/notebooks/data_table.ipynb>data table notebook</a>'\n",
              "          + ' to learn more about interactive tables.';\n",
              "        element.innerHTML = '';\n",
              "        dataTable['output_type'] = 'display_data';\n",
              "        await google.colab.output.renderOutput(dataTable, element);\n",
              "        const docLink = document.createElement('div');\n",
              "        docLink.innerHTML = docLinkHtml;\n",
              "        element.appendChild(docLink);\n",
              "      }\n",
              "    </script>\n",
              "  </div>\n",
              "\n",
              "\n",
              "<div id=\"df-999266ee-2ac3-4380-8316-112812134e81\">\n",
              "  <button class=\"colab-df-quickchart\" onclick=\"quickchart('df-999266ee-2ac3-4380-8316-112812134e81')\"\n",
              "            title=\"Suggest charts\"\n",
              "            style=\"display:none;\">\n",
              "\n",
              "<svg xmlns=\"http://www.w3.org/2000/svg\" height=\"24px\"viewBox=\"0 0 24 24\"\n",
              "     width=\"24px\">\n",
              "    <g>\n",
              "        <path d=\"M19 3H5c-1.1 0-2 .9-2 2v14c0 1.1.9 2 2 2h14c1.1 0 2-.9 2-2V5c0-1.1-.9-2-2-2zM9 17H7v-7h2v7zm4 0h-2V7h2v10zm4 0h-2v-4h2v4z\"/>\n",
              "    </g>\n",
              "</svg>\n",
              "  </button>\n",
              "\n",
              "<style>\n",
              "  .colab-df-quickchart {\n",
              "      --bg-color: #E8F0FE;\n",
              "      --fill-color: #1967D2;\n",
              "      --hover-bg-color: #E2EBFA;\n",
              "      --hover-fill-color: #174EA6;\n",
              "      --disabled-fill-color: #AAA;\n",
              "      --disabled-bg-color: #DDD;\n",
              "  }\n",
              "\n",
              "  [theme=dark] .colab-df-quickchart {\n",
              "      --bg-color: #3B4455;\n",
              "      --fill-color: #D2E3FC;\n",
              "      --hover-bg-color: #434B5C;\n",
              "      --hover-fill-color: #FFFFFF;\n",
              "      --disabled-bg-color: #3B4455;\n",
              "      --disabled-fill-color: #666;\n",
              "  }\n",
              "\n",
              "  .colab-df-quickchart {\n",
              "    background-color: var(--bg-color);\n",
              "    border: none;\n",
              "    border-radius: 50%;\n",
              "    cursor: pointer;\n",
              "    display: none;\n",
              "    fill: var(--fill-color);\n",
              "    height: 32px;\n",
              "    padding: 0;\n",
              "    width: 32px;\n",
              "  }\n",
              "\n",
              "  .colab-df-quickchart:hover {\n",
              "    background-color: var(--hover-bg-color);\n",
              "    box-shadow: 0 1px 2px rgba(60, 64, 67, 0.3), 0 1px 3px 1px rgba(60, 64, 67, 0.15);\n",
              "    fill: var(--button-hover-fill-color);\n",
              "  }\n",
              "\n",
              "  .colab-df-quickchart-complete:disabled,\n",
              "  .colab-df-quickchart-complete:disabled:hover {\n",
              "    background-color: var(--disabled-bg-color);\n",
              "    fill: var(--disabled-fill-color);\n",
              "    box-shadow: none;\n",
              "  }\n",
              "\n",
              "  .colab-df-spinner {\n",
              "    border: 2px solid var(--fill-color);\n",
              "    border-color: transparent;\n",
              "    border-bottom-color: var(--fill-color);\n",
              "    animation:\n",
              "      spin 1s steps(1) infinite;\n",
              "  }\n",
              "\n",
              "  @keyframes spin {\n",
              "    0% {\n",
              "      border-color: transparent;\n",
              "      border-bottom-color: var(--fill-color);\n",
              "      border-left-color: var(--fill-color);\n",
              "    }\n",
              "    20% {\n",
              "      border-color: transparent;\n",
              "      border-left-color: var(--fill-color);\n",
              "      border-top-color: var(--fill-color);\n",
              "    }\n",
              "    30% {\n",
              "      border-color: transparent;\n",
              "      border-left-color: var(--fill-color);\n",
              "      border-top-color: var(--fill-color);\n",
              "      border-right-color: var(--fill-color);\n",
              "    }\n",
              "    40% {\n",
              "      border-color: transparent;\n",
              "      border-right-color: var(--fill-color);\n",
              "      border-top-color: var(--fill-color);\n",
              "    }\n",
              "    60% {\n",
              "      border-color: transparent;\n",
              "      border-right-color: var(--fill-color);\n",
              "    }\n",
              "    80% {\n",
              "      border-color: transparent;\n",
              "      border-right-color: var(--fill-color);\n",
              "      border-bottom-color: var(--fill-color);\n",
              "    }\n",
              "    90% {\n",
              "      border-color: transparent;\n",
              "      border-bottom-color: var(--fill-color);\n",
              "    }\n",
              "  }\n",
              "</style>\n",
              "\n",
              "  <script>\n",
              "    async function quickchart(key) {\n",
              "      const quickchartButtonEl =\n",
              "        document.querySelector('#' + key + ' button');\n",
              "      quickchartButtonEl.disabled = true;  // To prevent multiple clicks.\n",
              "      quickchartButtonEl.classList.add('colab-df-spinner');\n",
              "      try {\n",
              "        const charts = await google.colab.kernel.invokeFunction(\n",
              "            'suggestCharts', [key], {});\n",
              "      } catch (error) {\n",
              "        console.error('Error during call to suggestCharts:', error);\n",
              "      }\n",
              "      quickchartButtonEl.classList.remove('colab-df-spinner');\n",
              "      quickchartButtonEl.classList.add('colab-df-quickchart-complete');\n",
              "    }\n",
              "    (() => {\n",
              "      let quickchartButtonEl =\n",
              "        document.querySelector('#df-999266ee-2ac3-4380-8316-112812134e81 button');\n",
              "      quickchartButtonEl.style.display =\n",
              "        google.colab.kernel.accessAllowed ? 'block' : 'none';\n",
              "    })();\n",
              "  </script>\n",
              "</div>\n",
              "    </div>\n",
              "  </div>\n"
            ]
          },
          "metadata": {},
          "execution_count": 10
        }
      ]
    },
    {
      "cell_type": "markdown",
      "source": [
        "Por fim, resta-nos apenas separá-los em \"treino\" e \"teste\" para facilitar nosso trabalho. Observe como é simples:"
      ],
      "metadata": {
        "id": "C4M6YKpzyf4O"
      }
    },
    {
      "cell_type": "code",
      "source": [
        "# Dividindo nossos dados em treino e teste:\n",
        "from sklearn.model_selection import train_test_split\n",
        "train, test, train_labels, test_labels = train_test_split(df.Transcrição, df.Label, test_size=0.2, stratify=df.Label, random_state=42)\n",
        "\n",
        "# Arrumando os índices (opcional):\n",
        "train.reset_index(drop=True, inplace=True)\n",
        "test.reset_index(drop=True, inplace=True)\n",
        "train_labels.reset_index(drop=True, inplace=True)\n",
        "test_labels.reset_index(drop=True, inplace=True)    # Essas labels NÃO podem entrar no treinamento do nosso modelo! Seria como dar o gabarito de uma prova antes de aplicá-la."
      ],
      "metadata": {
        "id": "Z2aWPUuy1EII"
      },
      "execution_count": 11,
      "outputs": []
    },
    {
      "cell_type": "markdown",
      "source": [
        "##<font color='#0660a2'> **Bag-of-words**"
      ],
      "metadata": {
        "id": "qTd1AM23zGoN"
      }
    },
    {
      "cell_type": "markdown",
      "source": [
        "Agora, vamos criar o nosso saco-de-palavras (BOW) a partir dessas raízes de palavras. Mas antes de usar a nossa função de BOW, precisamos formatar os nossos dados textuais para que eles sejam listas de frases:"
      ],
      "metadata": {
        "id": "sIE478rm8LlS"
      }
    },
    {
      "cell_type": "code",
      "source": [
        "print('Dado de treino antes da formatação: \\n', train)\n",
        "\n",
        "# Formatando:\n",
        "train = train.tolist()\n",
        "test = test.tolist()\n",
        "\n",
        "print('\\nDado de treino depois da formatação: \\n', train)"
      ],
      "metadata": {
        "colab": {
          "base_uri": "https://localhost:8080/"
        },
        "id": "QsDdGQWpzPz0",
        "outputId": "71fc5971-80bb-49dd-f1a1-8389802a94a6"
      },
      "execution_count": 12,
      "outputs": [
        {
          "output_type": "stream",
          "name": "stdout",
          "text": [
            "Dado de treino antes da formatação: \n",
            " 0    poderoso encontre protecao contr suor mal chei...\n",
            "1    descubr forc sentirs bem propr pel nov linh cu...\n",
            "2    flor colhida ant amanhec estao perfumada criam...\n",
            "3    adoro porqu deix pel mac gosto porqu deix pel ...\n",
            "4    novo refresc cabelo barb multifunt pre pos bar...\n",
            "5    dizem jeito romantico declar am coloc verso pe...\n",
            "6    chegaram nova fragrancia inspirada tradicao or...\n",
            "7    prometo am respeit cuid voc prometo seguir sen...\n",
            "8    uso deix pel assim mac suav gostos agor novo p...\n",
            "Name: Transcrição, dtype: object\n",
            "\n",
            "Dado de treino depois da formatação: \n",
            " ['poderoso encontre protecao contr suor mal cheiro torn homem legendario assim vent barreira homem anim', 'descubr forc sentirs bem propr pel nov linh cuidado pessoa perfumar', 'flor colhida ant amanhec estao perfumada criamo revel lado ousado', 'adoro porqu deix pel mac gosto porqu deix pel cheiros gosto porqu deix pel gostos', 'novo refresc cabelo barb multifunt pre pos barb fragranc amadeirad fresc intenso elo bem', 'dizem jeito romantico declar am coloc verso petala flor carib fale momento perfeito cri voc arrisques am novo', 'chegaram nova fragrancia inspirada tradicao ory flor cerejeir', 'prometo am respeit cuid voc prometo seguir sentir energ prometo lev voc mim todo dia sint potenc fresc agor nov embalagem feit plastico retirado lit', 'uso deix pel assim mac suav gostos agor novo perfum nov embalagem sensac']\n"
          ]
        }
      ]
    },
    {
      "cell_type": "markdown",
      "source": [
        "Também precisamos juntar os nossos dados de treino com nossos dados de teste em uma única lista, já que a função de BOW precisa processá-los juntos."
      ],
      "metadata": {
        "id": "Jb7FVZ1o2JPo"
      }
    },
    {
      "cell_type": "code",
      "source": [
        "all_sentences = train + test\n",
        "print('Frases juntas em uma única lista:\\n', all_sentences)"
      ],
      "metadata": {
        "colab": {
          "base_uri": "https://localhost:8080/"
        },
        "id": "eYdCxwZ60_K-",
        "outputId": "7bc3214c-d8cf-4dc0-80d3-2288b03256ed"
      },
      "execution_count": 13,
      "outputs": [
        {
          "output_type": "stream",
          "name": "stdout",
          "text": [
            "Frases juntas em uma única lista:\n",
            " ['poderoso encontre protecao contr suor mal cheiro torn homem legendario assim vent barreira homem anim', 'descubr forc sentirs bem propr pel nov linh cuidado pessoa perfumar', 'flor colhida ant amanhec estao perfumada criamo revel lado ousado', 'adoro porqu deix pel mac gosto porqu deix pel cheiros gosto porqu deix pel gostos', 'novo refresc cabelo barb multifunt pre pos barb fragranc amadeirad fresc intenso elo bem', 'dizem jeito romantico declar am coloc verso petala flor carib fale momento perfeito cri voc arrisques am novo', 'chegaram nova fragrancia inspirada tradicao ory flor cerejeir', 'prometo am respeit cuid voc prometo seguir sentir energ prometo lev voc mim todo dia sint potenc fresc agor nov embalagem feit plastico retirado lit', 'uso deix pel assim mac suav gostos agor novo perfum nov embalagem sensac', 'deix pel mac cheiros gostos princip hidratad voc tambem quer ter pel bonit bem tratad us', 'tod emocao busc aventur agrest refresc sig instinto', 'foco faz vent desafio vent casp oleosidad coceir us tre vez acao anticasp cabelo limpo dia todo encont pod melh versao']\n"
          ]
        }
      ]
    },
    {
      "cell_type": "markdown",
      "source": [
        "E vamos para a função!"
      ],
      "metadata": {
        "id": "4D2k9LtI6WFd"
      }
    },
    {
      "cell_type": "code",
      "source": [
        "# Importando as dependências necessárias:\n",
        "from sklearn.feature_extraction.text import CountVectorizer\n",
        "\n",
        "def bow(textos):\n",
        "  \"\"\" Entrada: uma lista de textos limpos.\n",
        "  Saída: um vetor que indica quais são as palavras presentes nos textos e a quantidade de vezes que tais vocábulos aparecem. \"\"\"\n",
        "  vectorizer = CountVectorizer()    # Cria um objeto do tipo \"Vetor de Contagem\".\n",
        "  frequencies = vectorizer.fit_transform(textos).toarray()    # Modeliza os textos de acordo com o vetor (transforma em contagens).\n",
        "  return frequencies\n",
        "\n",
        "# Aplicando a função de BOW em nosso conjunto de dados:\n",
        "bow_all = bow(all_sentences)"
      ],
      "metadata": {
        "id": "YmAnUQuK8TvM"
      },
      "execution_count": 14,
      "outputs": []
    },
    {
      "cell_type": "markdown",
      "source": [
        "Por fim, resta-nos separar novamente nossos dados em treino e teste, do jeito que estavam antes."
      ],
      "metadata": {
        "id": "IaW2SUlR3AKH"
      }
    },
    {
      "cell_type": "code",
      "source": [
        "train = (bow_all)[:len(train)]    # Do zero até o tamanho da lista de frases de treino, já que \"train\" veio antes.\n",
        "test = (bow_all)[-len(test):]    # De trás para frente, do último item até o tamanho da lista de frases de teste, já que \"test\" veio depois."
      ],
      "metadata": {
        "id": "Vbj8d13i3FiC"
      },
      "execution_count": 15,
      "outputs": []
    },
    {
      "cell_type": "markdown",
      "source": [
        "##<font color='#0660a2'> **Implementação do algoritmo Naive Bayes**"
      ],
      "metadata": {
        "id": "3HpwurOy5vMh"
      }
    },
    {
      "cell_type": "markdown",
      "source": [
        "Mais uma vez, antes de mexermos, de fato, com o modelo, precisamos primeiro verificar a formatação dos nossos dados. O algoritmo NB do Sklearn exige os seguintes formatos:\n",
        "- Para as labels (treino e teste), precisamos apenas de uma lista de valores. Exemplo:\n",
        "```\n",
        "train_lb_ex = [0, 1, 0, 1, 0, 1, 0, 1, 0]\n",
        "```\n",
        "- Já para as outras variáveis, o modelo exige uma matriz de duas dimensões (2D array), sendo uma dimensão composta pelo número de amostras (\"samples\", ou simplesmente linhas da tabela) e, a outra, pelo número de características (\"features\", ou simplesmente colunas da tabela). No nosso caso, temos apenas uma feature - que seria o texto da propaganda -, e, portanto, teremos uma matriz 2D (n_amostras, 1). Exemplo:\n",
        "```\n",
        "train_ex =\n",
        "array[[0, 0, 0, ... 0, 0, 0],\n",
        "       [0, 0, 0, ... 0, 0, 0],\n",
        "       [0, 0, 0, ... 0, 1, 0],\n",
        "       ...\n",
        "       [0, 0, 0, ... 0, 0, 0],\n",
        "       [1, 0, 0, ... 0, 0, 0]]\n",
        "```\n",
        "\n",
        "Vamos avaliar nossos dados:"
      ],
      "metadata": {
        "id": "hTl32_aUaExV"
      }
    },
    {
      "cell_type": "code",
      "source": [
        "print('Dados de treino: \\n', train)\n",
        "print('Dados de teste: \\n',test)\n",
        "print('Labels de treino: \\n', train_labels)\n",
        "print('Labels de teste: \\n', test_labels)"
      ],
      "metadata": {
        "id": "ejSJY7XIFyUi",
        "colab": {
          "base_uri": "https://localhost:8080/"
        },
        "outputId": "e6fa9cf5-069a-47bb-91a0-e08f9a6220c1"
      },
      "execution_count": 16,
      "outputs": [
        {
          "output_type": "stream",
          "name": "stdout",
          "text": [
            "Dados de treino: \n",
            " [[0 0 0 ... 0 0 0]\n",
            " [0 0 0 ... 0 0 0]\n",
            " [0 0 0 ... 0 0 0]\n",
            " ...\n",
            " [0 0 0 ... 0 0 0]\n",
            " [0 0 1 ... 0 0 2]\n",
            " [0 0 1 ... 0 0 0]]\n",
            "Dados de teste: \n",
            " [[0 0 0 0 0 0 0 0 0 0 0 0 0 0 0 1 1 0 0 0 0 0 0 0 1 0 0 0 0 0 0 0 0 0 1 0\n",
            "  0 0 0 0 0 0 0 0 0 0 0 0 0 0 0 0 0 0 0 0 1 1 0 0 0 0 0 0 0 0 0 0 0 1 0 0\n",
            "  0 0 0 0 0 0 0 0 0 2 0 0 0 0 0 0 0 0 0 0 0 0 0 1 0 0 0 1 0 0 0 0 0 0 0 0\n",
            "  0 0 0 0 0 1 1 0 0 0 0 1 0 1 0 0 0 0 0 1]\n",
            " [0 0 0 1 0 0 0 0 0 0 0 0 1 0 0 0 0 1 0 0 0 0 0 0 0 0 0 0 0 0 0 0 0 0 0 0\n",
            "  0 0 0 0 0 1 0 0 0 0 0 0 0 0 0 0 0 0 0 0 0 0 0 0 1 0 0 0 0 0 0 0 0 0 0 0\n",
            "  0 0 0 0 0 0 0 0 0 0 0 0 0 0 0 0 0 0 0 0 0 0 0 0 0 0 0 0 1 0 0 0 0 0 0 0\n",
            "  0 1 0 0 0 0 0 1 0 0 0 0 0 0 0 0 0 0 0 0]\n",
            " [1 0 0 0 0 0 0 0 0 1 0 0 0 0 0 0 0 0 1 0 1 0 0 0 0 1 0 0 0 0 0 0 0 0 0 1\n",
            "  0 1 0 0 0 0 1 0 0 0 0 1 0 0 1 0 0 0 0 0 0 0 0 0 0 0 0 0 0 0 1 0 0 0 0 1\n",
            "  0 0 0 0 0 0 1 0 0 0 0 0 0 0 0 0 0 1 0 0 0 0 0 0 0 0 0 0 0 0 0 0 0 0 0 0\n",
            "  0 0 0 0 0 0 0 0 1 0 0 0 1 1 0 2 1 0 1 0]]\n",
            "Labels de treino: \n",
            " 0    0\n",
            "1    0\n",
            "2    1\n",
            "3    1\n",
            "4    0\n",
            "5    1\n",
            "6    1\n",
            "7    0\n",
            "8    1\n",
            "Name: Label, dtype: int64\n",
            "Labels de teste: \n",
            " 0    1\n",
            "1    0\n",
            "2    0\n",
            "Name: Label, dtype: int64\n"
          ]
        }
      ]
    },
    {
      "cell_type": "markdown",
      "source": [
        "Ótimo! precisamos apenas mudar o formato das nossas labels, então."
      ],
      "metadata": {
        "id": "iB85r8mw5ngV"
      }
    },
    {
      "cell_type": "code",
      "source": [
        "train_labels = train_labels.to_list()\n",
        "test_labels = test_labels.to_list()"
      ],
      "metadata": {
        "id": "DoY_5Wgz5tl6"
      },
      "execution_count": 17,
      "outputs": []
    },
    {
      "cell_type": "markdown",
      "source": [
        "Com nossos dados devidamente formatados, podemos finalmente importar o modelo pronto do Sklearn para rodar nosso Naive Bayes:"
      ],
      "metadata": {
        "id": "i8gQ-oF2X-z1"
      }
    },
    {
      "cell_type": "code",
      "source": [
        "# Para importar as dependências necessárias:\n",
        "from sklearn.feature_extraction.text import TfidfVectorizer\n",
        "from sklearn.naive_bayes import MultinomialNB\n",
        "from sklearn.pipeline import make_pipeline\n",
        "\n",
        "# Para criar o modelo:\n",
        "model = MultinomialNB()\n",
        "\n",
        "# Para treinar o modelo com os dados de treino:\n",
        "model.fit(train, train_labels)\n",
        "\n",
        "# Para predizer as categorias dos dados de teste:\n",
        "predicted_categories = model.predict(test)"
      ],
      "metadata": {
        "id": "7fPi-wkp50He"
      },
      "execution_count": 18,
      "outputs": []
    },
    {
      "cell_type": "code",
      "source": [
        "print('As labels preditas são:', predicted_categories)"
      ],
      "metadata": {
        "colab": {
          "base_uri": "https://localhost:8080/"
        },
        "id": "O0eq6y1HYvcs",
        "outputId": "c14c3de3-c516-4747-b63f-6ee6133890fd"
      },
      "execution_count": 19,
      "outputs": [
        {
          "output_type": "stream",
          "name": "stdout",
          "text": [
            "As labels preditas são: [1 0 0]\n"
          ]
        }
      ]
    },
    {
      "cell_type": "markdown",
      "source": [
        "Viu como é fácil? O uso do modelo é bem simples já que temos a ajuda de bibliotecas, então a implementação não passa de uma \"receita de bolo\". O problema está mais no tratamento dos dados, mesmo, já que o modelo só aceita um formato específico."
      ],
      "metadata": {
        "id": "HwH6zjIpYXlJ"
      }
    },
    {
      "cell_type": "markdown",
      "source": [
        "##<font color='#0660a2'> **Verificação do desempenho do modelo**"
      ],
      "metadata": {
        "id": "GybnPIQQ6kaR"
      }
    },
    {
      "cell_type": "markdown",
      "source": [
        "Por último, precisamos avaliar se o desempenho foi satisfatório! Nenhum modelo está completo sem a sua métrica de avaliação  :)\n",
        "\n",
        "Para essa verificação, usaremos a matriz de confusão, que, como vimos, é uma métrica bastante completa. Também imprimiremos a acurácia, apenas para garantir..."
      ],
      "metadata": {
        "id": "Wl0kXO_ZZIju"
      }
    },
    {
      "cell_type": "code",
      "source": [
        "from sklearn.metrics import confusion_matrix, accuracy_score\n",
        "\n",
        "# Plotando uma matriz de confusão:\n",
        "matrix = confusion_matrix(test_labels, predicted_categories)\n",
        "sns.heatmap(matrix, annot=True, cmap='Blues')\n",
        "\n",
        "# Verificando a acurácia:\n",
        "accuracy = accuracy_score(test_labels, predicted_categories)\n",
        "print('A acurácia encontrada é de:', accuracy)"
      ],
      "metadata": {
        "id": "3-fqLmdK6jpZ",
        "colab": {
          "base_uri": "https://localhost:8080/",
          "height": 453
        },
        "outputId": "aa379b12-5e1e-4870-f2e6-a1bc8e4e5a8d"
      },
      "execution_count": 20,
      "outputs": [
        {
          "output_type": "stream",
          "name": "stdout",
          "text": [
            "A acurácia encontrada é de: 1.0\n"
          ]
        },
        {
          "output_type": "display_data",
          "data": {
            "text/plain": [
              "<Figure size 640x480 with 2 Axes>"
            ],
            "image/png": "[encoded data removed]"
          },
          "metadata": {}
        }
      ]
    },
    {
      "cell_type": "markdown",
      "source": [
        "E fim!"
      ],
      "metadata": {
        "id": "ixgD-M0PZjBH"
      }
    }
  ]
}