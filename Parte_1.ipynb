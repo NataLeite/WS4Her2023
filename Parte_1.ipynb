{
  "nbformat": 4,
  "nbformat_minor": 0,
  "metadata": {
    "colab": {
      "provenance": [],
      "collapsed_sections": [
        "bZHaNRYjrMkY",
        "3hPDb4mprTMo",
        "KI7-dmWgrZLr",
        "aHvY5b1YrjwM",
        "4j2IGRFkq65Z",
        "1brbnWczrtFv",
        "YEai_iWvpHOv",
        "e77r_mgSm0zb"
      ]
    },
    "kernelspec": {
      "name": "python3",
      "display_name": "Python 3"
    },
    "language_info": {
      "name": "python"
    }
  },
  "cells": [
    {
      "cell_type": "markdown",
      "source": [
        "#<font color='#f1863d'> **Python: primeiros passos**"
      ],
      "metadata": {
        "id": "QVWdH1r-mcGL"
      }
    },
    {
      "cell_type": "markdown",
      "source": [
        "Para ajudar a consolidar os conteúdos requeridos de Python, preparamos um notebook com alguns exemplos e exercícios."
      ],
      "metadata": {
        "id": "j1iS3aQiC6-E"
      }
    },
    {
      "cell_type": "markdown",
      "source": [
        "##<font color='#0660a2'> **Teoria**\n"
      ],
      "metadata": {
        "id": "RE_dpugE_NTh"
      }
    },
    {
      "cell_type": "markdown",
      "source": [
        "###<font color='#0660a2'> Print, input e output"
      ],
      "metadata": {
        "id": "XCkJIj_jrCk1"
      }
    },
    {
      "cell_type": "markdown",
      "source": [
        "\"Printar\" algo é dar ao seu código o comando de fazer algo aparecer na tela. Fazemos isso utilizando a função print do python.\n"
      ],
      "metadata": {
        "id": "Mbs4gnbJHqDf"
      }
    },
    {
      "cell_type": "code",
      "source": [
        "# Exemplo - rode a célula\n",
        "\n",
        "print('Turing USP é o grupo que estuda, aplica e dissemina inteligência artificial.')"
      ],
      "metadata": {
        "id": "Tc7tzBmWBO7i",
        "colab": {
          "base_uri": "https://localhost:8080/"
        },
        "outputId": "0fda88f7-7b69-4c33-8a47-b81b10fef5af"
      },
      "execution_count": 1,
      "outputs": [
        {
          "output_type": "stream",
          "name": "stdout",
          "text": [
            "Turing USP é o grupo que estuda, aplica e dissemina inteligência artificial.\n"
          ]
        }
      ]
    },
    {
      "cell_type": "markdown",
      "source": [
        "Agora vamos relembrar os conceitos de input e output. **Inputs** são as informações dadas ao computador, por exemplo, ao fornecer um nome para ser printado na tela. **Outputs** são as informações que seu computador gera, por exemplo, o resultado de uma conta."
      ],
      "metadata": {
        "id": "60X2YZdkBfht"
      }
    },
    {
      "cell_type": "code",
      "source": [
        "# Rode a célula\n",
        "resposta = input('Olá! Como vai? ')\n",
        "\n",
        "print(resposta)"
      ],
      "metadata": {
        "id": "kVDXR2StBsPI",
        "colab": {
          "base_uri": "https://localhost:8080/"
        },
        "outputId": "1dbbc892-70c9-420c-e4b9-27c2ee659ae4"
      },
      "execution_count": 2,
      "outputs": [
        {
          "output_type": "stream",
          "name": "stdout",
          "text": [
            "Olá! Como vai? bem!\n",
            "bem!\n"
          ]
        }
      ]
    },
    {
      "cell_type": "markdown",
      "source": [
        "Você consegue identificar qual foi seu input e qual o output retornado pelo código?"
      ],
      "metadata": {
        "id": "aZPSN1mcBwET"
      }
    },
    {
      "cell_type": "markdown",
      "source": [
        "###<font color='#0660a2'> Variáveis e seus tipos"
      ],
      "metadata": {
        "id": "bZHaNRYjrMkY"
      }
    },
    {
      "cell_type": "markdown",
      "source": [
        "Variáveis são um dos recursos mais básicos das linguagens de programação. Utilizadas para armazenar valores em memória, elas nos permitem gravar e ler esses dados com facilidade a partir de um nome definido por nós.\n",
        "\n",
        "Temos alguns tipos: **str** (string), **int** (inteiros), **float** (números decimais) e **bool** (booleanos)."
      ],
      "metadata": {
        "id": "lSecMTz2CzJs"
      }
    },
    {
      "cell_type": "code",
      "source": [
        "# Para ver o tipo de uma variável, usamos a função type()\n",
        "\n",
        "uma_string_qualquer = \"turing\"\n",
        "um_int_qualquer = 1\n",
        "um_bool_qualquer = True\n",
        "um_float_qualquer = 1.57\n",
        "\n",
        "print( type(uma_string_qualquer) )\n",
        "print( type(um_float_qualquer) )\n",
        "print( type(um_bool_qualquer) )\n",
        "\n",
        "print('O tipo do número {} é {}'.format(um_int_qualquer, type(um_int_qualquer) ))\n",
        "\n",
        "# Nesse caso, o .format é outra forma de fazer aparecer as variáveis desejadas no print\n",
        "# Você adiciona as chaves {} onde quer que a variável esteja e depois a coloca no .format()\n",
        "# Se for mais de uma variável, siga a ordem certa no parênteses\n"
      ],
      "metadata": {
        "id": "9WQTfW-IDJlx",
        "colab": {
          "base_uri": "https://localhost:8080/"
        },
        "outputId": "d0fc6421-0137-4030-b738-129bf5d8fbaf"
      },
      "execution_count": 3,
      "outputs": [
        {
          "output_type": "stream",
          "name": "stdout",
          "text": [
            "<class 'str'>\n",
            "<class 'float'>\n",
            "<class 'bool'>\n",
            "O tipo do número 1 é <class 'int'>\n"
          ]
        }
      ]
    },
    {
      "cell_type": "markdown",
      "source": [
        "E lembrando que tudo o que passamos como input sempre será lido como **string**! Para que o computador manipule números que foram lidos como inputs, devemos convertê-los para **int** primeiro.\n",
        "\n",
        "**OBS:** Lembre-se de nomear suas variáveis com nomes diferentes, pois isso evita erros na hora de rodar o colab."
      ],
      "metadata": {
        "id": "wQdzpPVZETR2"
      }
    },
    {
      "cell_type": "markdown",
      "source": [
        "###<font color='#0660a2'> Operações Aritméticas"
      ],
      "metadata": {
        "id": "3hPDb4mprTMo"
      }
    },
    {
      "cell_type": "markdown",
      "source": [
        "Vamos relembrar os sinais para operações no Python:\n",
        "\n",
        "```\n",
        "== igual\n",
        "+ adição\n",
        "- subtração\n",
        "* multiplicação\n",
        "/ divisão\n",
        "% resto de uma divisão\n",
        "** exponenciação\n",
        "```\n"
      ],
      "metadata": {
        "id": "rGEDVnR6E-GQ"
      }
    },
    {
      "cell_type": "markdown",
      "source": [
        "###<font color='#0660a2'> Condicionais"
      ],
      "metadata": {
        "id": "KI7-dmWgrZLr"
      }
    },
    {
      "cell_type": "markdown",
      "source": [
        "\n",
        "Frequentemente quando formos criar programas, vamos querer que o computador execute um dado comando apenas quando uma certa condição for verdade. Para isso, vamos usar o comando if e else.\n",
        "Os blocos condicionais são estruturados da seguinte forma:\n",
        "\n",
        "\n",
        "```\n",
        "  if condição:\n",
        "    commands\n",
        "  elif condição:\n",
        "    commands\n",
        "  else:\n",
        "    commands\n",
        "```\n",
        "\n",
        "\n",
        "\n",
        "Lembrando que o \"elif\" e o \"else\" são opcionais!"
      ],
      "metadata": {
        "id": "VfciZNpmE0a-"
      }
    },
    {
      "cell_type": "markdown",
      "source": [
        "###<font color='#0660a2'> Listas"
      ],
      "metadata": {
        "id": "aHvY5b1YrjwM"
      }
    },
    {
      "cell_type": "markdown",
      "source": [
        "Uma lista em Python é uma sequência ou coleção ordenada de valores. Cada valor na lista é identificado por um índice. As listas são similares a strings, que são uma sequência de caracteres; no entanto, diferentemente de strings, os itens de uma lista podem ser de tipos diferentes:\n",
        "\n",
        "![image.png](data:image/png;base64,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)\n"
      ],
      "metadata": {
        "id": "AdrOcbrCGGKM"
      }
    },
    {
      "cell_type": "markdown",
      "source": [
        "Em Python, declaramos uma lista usando colchetes, e podemos acessar um de seus elementos usando sua posição e colchetes também:"
      ],
      "metadata": {
        "id": "idWN-n7gGtOG"
      }
    },
    {
      "cell_type": "code",
      "source": [
        "lista_ints = [1, 2, 3]\n",
        "\n",
        "print(lista_ints)\n",
        "print('O último item da nossa lista de inteiros é:', lista_ints[-1])"
      ],
      "metadata": {
        "id": "Jqz7B7p8CsOu",
        "colab": {
          "base_uri": "https://localhost:8080/"
        },
        "outputId": "6c8081cf-c170-4087-8cdf-f85e4df53bb9"
      },
      "execution_count": 4,
      "outputs": [
        {
          "output_type": "stream",
          "name": "stdout",
          "text": [
            "[1, 2, 3]\n",
            "O último item da nossa lista de inteiros é: 3\n"
          ]
        }
      ]
    },
    {
      "cell_type": "markdown",
      "source": [
        "Podemos transitar de uma lista para uma string com a função \".join\", e também podemos usar \".split\" no caso contrário, o que pode ser muito útil para tarefas de NLP. Vamos aprender (ou relembrar) como isso funciona:\n",
        "\n",
        "```\n",
        "string.split(separador, splitmax)\n",
        "```\n",
        "\n",
        "- 'separador'\t- Opcional, especifica qual o separador que será usado como critério para dividir nossa string em uma lista de itens. Como default, é utilizado o espaço em branco (' ').\n",
        "- 'splitmax' - Opcional, especifica quantos splits deverão ser feitos. Como default, é utilizado -1, indicando todas as ocorrências."
      ],
      "metadata": {
        "id": "WquYPsgcDYtm"
      }
    },
    {
      "cell_type": "code",
      "source": [
        "txt = \"Olá, isto é um exemplo.\"\n",
        "\n",
        "lista1 = txt.split(', ')\n",
        "print('Usando o separador \", \":', lista1)\n",
        "\n",
        "lista2 = txt.split(' ')\n",
        "print('Usando o separador default \" \":', lista2)"
      ],
      "metadata": {
        "id": "F8z_Raq8DYCg",
        "colab": {
          "base_uri": "https://localhost:8080/"
        },
        "outputId": "a4fa49dd-d509-440e-d54e-aa2625603dec"
      },
      "execution_count": 5,
      "outputs": [
        {
          "output_type": "stream",
          "name": "stdout",
          "text": [
            "Usando o separador \", \": ['Olá', 'isto é um exemplo.']\n",
            "Usando o separador default \" \": ['Olá,', 'isto', 'é', 'um', 'exemplo.']\n"
          ]
        }
      ]
    },
    {
      "cell_type": "markdown",
      "source": [
        "```\n",
        "separador.join(iteravel)\n",
        "```\n",
        "\n",
        "- 'iteravel'\t- Sequência de elementos que serão concatenados numa string. Pode ser uma lista, uma tupla ou até mesmo uma outra string.\n",
        "- 'separador' - Aquilo que será usado para separar os elementos na string resultante."
      ],
      "metadata": {
        "id": "g4My8eHJGvAk"
      }
    },
    {
      "cell_type": "code",
      "source": [
        "str1 = ' '.join(lista2)\n",
        "print('Usando o separador \" \":', str1)\n",
        "\n",
        "str2 = '-'.join(lista2)\n",
        "print('Usando o separador \"-\":', str2)\n",
        "\n",
        "str3 = ''.join(lista2)\n",
        "print('Usando o separador vazio:', str3)"
      ],
      "metadata": {
        "id": "dUVIOeWHI0QK",
        "colab": {
          "base_uri": "https://localhost:8080/"
        },
        "outputId": "d55e7f10-05fa-4c3d-ab5a-9dd4d5645f99"
      },
      "execution_count": 6,
      "outputs": [
        {
          "output_type": "stream",
          "name": "stdout",
          "text": [
            "Usando o separador \" \": Olá, isto é um exemplo.\n",
            "Usando o separador \"-\": Olá,-isto-é-um-exemplo.\n",
            "Usando o separador vazio: Olá,istoéumexemplo.\n"
          ]
        }
      ]
    },
    {
      "cell_type": "markdown",
      "source": [
        "Por último, podemos relembrar alguns métodos úteis para lidar com listas:\n",
        "\n",
        "```\n",
        "lista.count(elemento)\n",
        "lista.append(elemento)\n",
        "lista.insert(índice, elemento)\n",
        "lista.index(elemento) #primeira ocorrencia\n",
        "lista.remove(elemento) #primeira ocorrencia\n",
        "lista.reverse()\n",
        "```"
      ],
      "metadata": {
        "id": "lYR6TNmeLMWJ"
      }
    },
    {
      "cell_type": "markdown",
      "source": [
        "###<font color='#0660a2'> Range e Loops"
      ],
      "metadata": {
        "id": "4j2IGRFkq65Z"
      }
    },
    {
      "cell_type": "markdown",
      "source": [
        "O range não é nada mais do que uma forma rápida de criar uma sequência (lista) de números dentro de um determinado intervalo. Essa função aceita até 3 argumentos e, a partir deles, podemos decidir em que número a série começará, em qual ela terminará e qual será a diferença entre os números da série.\n",
        "\n",
        "\n",
        "\n",
        "```\n",
        "range(3)        #retorna [0, 1, 2]\n",
        "range(1, 3)     #retorna [1, 2]\n",
        "range(0, 10, 2) #retorna [0, 2, 4, 6, 8]\n",
        "\n",
        "```\n",
        "\n",
        "\n",
        "\n",
        "Já loops são utilizados para quando queremos que uma série de comandos de códigos seja feita repetidamente até uma certa condição ou número de repetições ser satisfeita:\n",
        "\n",
        "\n",
        "\n",
        "```\n",
        "for numero in [1, 2, 3]:\n",
        "  print(numero + 1) # printa 234\n",
        "\n",
        "for i in range(3):\n",
        "  print(i) # printa 012\n",
        "```\n",
        "\n",
        "\n"
      ],
      "metadata": {
        "id": "3Zdfpj27HbHu"
      }
    },
    {
      "cell_type": "markdown",
      "source": [
        "###<font color='#0660a2'> Funções"
      ],
      "metadata": {
        "id": "1brbnWczrtFv"
      }
    },
    {
      "cell_type": "markdown",
      "source": [
        "Uma função é um bloco de código que contém uma sequência de comandos que executa alguma tarefa. São utilizadas para executar determinadas tarefas que normalmente precisam ser executadas diversas vezes dentro de uma aplicação. Dessa forma, não é necessário repetir as mesmas linhas de código sempre que se quiser realizar determinada tarefa!\n",
        "\n",
        "\n",
        "\n",
        "```\n",
        "def nome(arg1, arg2):\n",
        "  valor = (arg1 + arg2)*arg1\n",
        "  return valor\n",
        "```\n",
        "\n",
        "\n",
        "\n",
        "```\n",
        "def soma(x, y):\n",
        "  return x + y\n",
        "\n",
        "```"
      ],
      "metadata": {
        "id": "hLnxje2oIpBn"
      }
    },
    {
      "cell_type": "markdown",
      "source": [
        "##<font color='#0660a2'> **Exercícios para treino!!**\n"
      ],
      "metadata": {
        "id": "zch5xkTOFuKH"
      }
    },
    {
      "cell_type": "markdown",
      "source": [
        "Aqui estão alguns exercícios para aprofundamento, revisão e junção de tudo que vimos!  Encorajamos que você tente fazê-los com calma. Você pode pedir a nossa ajuda se necessário!"
      ],
      "metadata": {
        "id": "L45d5LP6BT20"
      }
    },
    {
      "cell_type": "markdown",
      "source": [
        "Ex. 1  -  Defina uma função chamada \"inverso\" que, ao receber uma palavra, retorne ela de trás pra frente."
      ],
      "metadata": {
        "id": "Hun0IOM_-oFX"
      }
    },
    {
      "cell_type": "code",
      "source": [
        "def inverso(sentenca):\n",
        "  # Sua função aqui!\n",
        "  return\n",
        "\n",
        "\n",
        "\n",
        "plv = 'teste'"
      ],
      "metadata": {
        "id": "3563umQ6320r"
      },
      "execution_count": 7,
      "outputs": []
    },
    {
      "cell_type": "markdown",
      "source": [
        "Ex. 2 - Defina uma função chamada \"mais_longa\" que, ao receber uma sentença, retorne a(s) palavra(s) mais longa(s)."
      ],
      "metadata": {
        "id": "F6WMzRy12ehX"
      }
    },
    {
      "cell_type": "code",
      "source": [
        "def mais_longa(palavra):\n",
        "  # Sua função aqui!\n",
        "  return\n",
        "\n",
        "\n",
        "\n",
        "sent1 = 'um teste para uma testagem'\n",
        "## OBS: ainda não vimos como lidar com pontuações, então, por enquanto, evite usá-las nos testes."
      ],
      "metadata": {
        "id": "pBCvD6glA540"
      },
      "execution_count": 8,
      "outputs": []
    },
    {
      "cell_type": "markdown",
      "source": [
        "Ex. 3 -  Defina uma função chamada \"contagem\" que, ao receber uma sentença, retorna cada item (palavra ou pontuação) seguido de sua frequência."
      ],
      "metadata": {
        "id": "MSYNFpW73hQm"
      }
    },
    {
      "cell_type": "code",
      "source": [
        "def contagem(sentenca):\n",
        "  # Sua função aqui!\n",
        "  return\n",
        "\n",
        "\n",
        "\n",
        "sent2 = 'para uma tesgatem um teste e para outra testagem outro teste'\n",
        "## OBS: ainda não vimos como lidar com pontuações, então, por enquanto, evite usá-las nos testes."
      ],
      "metadata": {
        "id": "WKbmYUg533hL"
      },
      "execution_count": 9,
      "outputs": []
    },
    {
      "cell_type": "markdown",
      "source": [
        "#<font color='#f1863d'> **Visualizando dados com Pandas: primeiros passos**"
      ],
      "metadata": {
        "id": "YEai_iWvpHOv"
      }
    },
    {
      "cell_type": "markdown",
      "source": [
        "O DataFrame é o principal objeto do módulo Pandas, e ele pode ser gerado a partir de um dicionário do Python (chaves = cabeçalhos das colunas, valores = células). Veja:"
      ],
      "metadata": {
        "id": "3mo1FEPZ8xMA"
      }
    },
    {
      "cell_type": "code",
      "source": [
        "# Importando a biblioteca:\n",
        "import pandas as pd\n",
        "\n",
        "# Criando o nosso dataframe:\n",
        "df = pd.DataFrame({'Coluna 1': [1, 2, 3], 'Coluna 2': [10, 20, 30]})"
      ],
      "metadata": {
        "id": "Nsc_R65X-6Qb"
      },
      "execution_count": 10,
      "outputs": []
    },
    {
      "cell_type": "markdown",
      "source": [
        "Para trabalhar com um grande volume de dados, nós normalmente criaremos o dataframe do Pandas a partir de um arquivo .csv em nosso drive. Porém, para fins de demonstração dos comandos básicos, trabalharemos com nosso df inventado.\n",
        "\n",
        "Para visualizar esses dados, é bastante simples:"
      ],
      "metadata": {
        "id": "6elhlOWS_PwS"
      }
    },
    {
      "cell_type": "code",
      "source": [
        "# DataFrame completo:\n",
        "df"
      ],
      "metadata": {
        "id": "tzgHwF6-_PST",
        "colab": {
          "base_uri": "https://localhost:8080/",
          "height": 143
        },
        "outputId": "19f74b6b-a09e-451d-987c-e7b77dd21a4c"
      },
      "execution_count": 11,
      "outputs": [
        {
          "output_type": "execute_result",
          "data": {
            "text/plain": [
              "   Coluna 1  Coluna 2\n",
              "0         1        10\n",
              "1         2        20\n",
              "2         3        30"
            ],
            "text/html": [
              "\n",
              "  <div id=\"df-929ebd5c-15d3-45a5-87e2-51456ced5450\" class=\"colab-df-container\">\n",
              "    <div>\n",
              "<style scoped>\n",
              "    .dataframe tbody tr th:only-of-type {\n",
              "        vertical-align: middle;\n",
              "    }\n",
              "\n",
              "    .dataframe tbody tr th {\n",
              "        vertical-align: top;\n",
              "    }\n",
              "\n",
              "    .dataframe thead th {\n",
              "        text-align: right;\n",
              "    }\n",
              "</style>\n",
              "<table border=\"1\" class=\"dataframe\">\n",
              "  <thead>\n",
              "    <tr style=\"text-align: right;\">\n",
              "      <th></th>\n",
              "      <th>Coluna 1</th>\n",
              "      <th>Coluna 2</th>\n",
              "    </tr>\n",
              "  </thead>\n",
              "  <tbody>\n",
              "    <tr>\n",
              "      <th>0</th>\n",
              "      <td>1</td>\n",
              "      <td>10</td>\n",
              "    </tr>\n",
              "    <tr>\n",
              "      <th>1</th>\n",
              "      <td>2</td>\n",
              "      <td>20</td>\n",
              "    </tr>\n",
              "    <tr>\n",
              "      <th>2</th>\n",
              "      <td>3</td>\n",
              "      <td>30</td>\n",
              "    </tr>\n",
              "  </tbody>\n",
              "</table>\n",
              "</div>\n",
              "    <div class=\"colab-df-buttons\">\n",
              "\n",
              "  <div class=\"colab-df-container\">\n",
              "    <button class=\"colab-df-convert\" onclick=\"convertToInteractive('df-929ebd5c-15d3-45a5-87e2-51456ced5450')\"\n",
              "            title=\"Convert this dataframe to an interactive table.\"\n",
              "            style=\"display:none;\">\n",
              "\n",
              "  <svg xmlns=\"http://www.w3.org/2000/svg\" height=\"24px\" viewBox=\"0 -960 960 960\">\n",
              "    <path d=\"M120-120v-720h720v720H120Zm60-500h600v-160H180v160Zm220 220h160v-160H400v160Zm0 220h160v-160H400v160ZM180-400h160v-160H180v160Zm440 0h160v-160H620v160ZM180-180h160v-160H180v160Zm440 0h160v-160H620v160Z\"/>\n",
              "  </svg>\n",
              "    </button>\n",
              "\n",
              "  <style>\n",
              "    .colab-df-container {\n",
              "      display:flex;\n",
              "      gap: 12px;\n",
              "    }\n",
              "\n",
              "    .colab-df-convert {\n",
              "      background-color: #E8F0FE;\n",
              "      border: none;\n",
              "      border-radius: 50%;\n",
              "      cursor: pointer;\n",
              "      display: none;\n",
              "      fill: #1967D2;\n",
              "      height: 32px;\n",
              "      padding: 0 0 0 0;\n",
              "      width: 32px;\n",
              "    }\n",
              "\n",
              "    .colab-df-convert:hover {\n",
              "      background-color: #E2EBFA;\n",
              "      box-shadow: 0px 1px 2px rgba(60, 64, 67, 0.3), 0px 1px 3px 1px rgba(60, 64, 67, 0.15);\n",
              "      fill: #174EA6;\n",
              "    }\n",
              "\n",
              "    .colab-df-buttons div {\n",
              "      margin-bottom: 4px;\n",
              "    }\n",
              "\n",
              "    [theme=dark] .colab-df-convert {\n",
              "      background-color: #3B4455;\n",
              "      fill: #D2E3FC;\n",
              "    }\n",
              "\n",
              "    [theme=dark] .colab-df-convert:hover {\n",
              "      background-color: #434B5C;\n",
              "      box-shadow: 0px 1px 3px 1px rgba(0, 0, 0, 0.15);\n",
              "      filter: drop-shadow(0px 1px 2px rgba(0, 0, 0, 0.3));\n",
              "      fill: #FFFFFF;\n",
              "    }\n",
              "  </style>\n",
              "\n",
              "    <script>\n",
              "      const buttonEl =\n",
              "        document.querySelector('#df-929ebd5c-15d3-45a5-87e2-51456ced5450 button.colab-df-convert');\n",
              "      buttonEl.style.display =\n",
              "        google.colab.kernel.accessAllowed ? 'block' : 'none';\n",
              "\n",
              "      async function convertToInteractive(key) {\n",
              "        const element = document.querySelector('#df-929ebd5c-15d3-45a5-87e2-51456ced5450');\n",
              "        const dataTable =\n",
              "          await google.colab.kernel.invokeFunction('convertToInteractive',\n",
              "                                                    [key], {});\n",
              "        if (!dataTable) return;\n",
              "\n",
              "        const docLinkHtml = 'Like what you see? Visit the ' +\n",
              "          '<a target=\"_blank\" href=https://colab.research.google.com/notebooks/data_table.ipynb>data table notebook</a>'\n",
              "          + ' to learn more about interactive tables.';\n",
              "        element.innerHTML = '';\n",
              "        dataTable['output_type'] = 'display_data';\n",
              "        await google.colab.output.renderOutput(dataTable, element);\n",
              "        const docLink = document.createElement('div');\n",
              "        docLink.innerHTML = docLinkHtml;\n",
              "        element.appendChild(docLink);\n",
              "      }\n",
              "    </script>\n",
              "  </div>\n",
              "\n",
              "\n",
              "<div id=\"df-fba7f745-8489-408b-a98f-7f7533f759b3\">\n",
              "  <button class=\"colab-df-quickchart\" onclick=\"quickchart('df-fba7f745-8489-408b-a98f-7f7533f759b3')\"\n",
              "            title=\"Suggest charts\"\n",
              "            style=\"display:none;\">\n",
              "\n",
              "<svg xmlns=\"http://www.w3.org/2000/svg\" height=\"24px\"viewBox=\"0 0 24 24\"\n",
              "     width=\"24px\">\n",
              "    <g>\n",
              "        <path d=\"M19 3H5c-1.1 0-2 .9-2 2v14c0 1.1.9 2 2 2h14c1.1 0 2-.9 2-2V5c0-1.1-.9-2-2-2zM9 17H7v-7h2v7zm4 0h-2V7h2v10zm4 0h-2v-4h2v4z\"/>\n",
              "    </g>\n",
              "</svg>\n",
              "  </button>\n",
              "\n",
              "<style>\n",
              "  .colab-df-quickchart {\n",
              "      --bg-color: #E8F0FE;\n",
              "      --fill-color: #1967D2;\n",
              "      --hover-bg-color: #E2EBFA;\n",
              "      --hover-fill-color: #174EA6;\n",
              "      --disabled-fill-color: #AAA;\n",
              "      --disabled-bg-color: #DDD;\n",
              "  }\n",
              "\n",
              "  [theme=dark] .colab-df-quickchart {\n",
              "      --bg-color: #3B4455;\n",
              "      --fill-color: #D2E3FC;\n",
              "      --hover-bg-color: #434B5C;\n",
              "      --hover-fill-color: #FFFFFF;\n",
              "      --disabled-bg-color: #3B4455;\n",
              "      --disabled-fill-color: #666;\n",
              "  }\n",
              "\n",
              "  .colab-df-quickchart {\n",
              "    background-color: var(--bg-color);\n",
              "    border: none;\n",
              "    border-radius: 50%;\n",
              "    cursor: pointer;\n",
              "    display: none;\n",
              "    fill: var(--fill-color);\n",
              "    height: 32px;\n",
              "    padding: 0;\n",
              "    width: 32px;\n",
              "  }\n",
              "\n",
              "  .colab-df-quickchart:hover {\n",
              "    background-color: var(--hover-bg-color);\n",
              "    box-shadow: 0 1px 2px rgba(60, 64, 67, 0.3), 0 1px 3px 1px rgba(60, 64, 67, 0.15);\n",
              "    fill: var(--button-hover-fill-color);\n",
              "  }\n",
              "\n",
              "  .colab-df-quickchart-complete:disabled,\n",
              "  .colab-df-quickchart-complete:disabled:hover {\n",
              "    background-color: var(--disabled-bg-color);\n",
              "    fill: var(--disabled-fill-color);\n",
              "    box-shadow: none;\n",
              "  }\n",
              "\n",
              "  .colab-df-spinner {\n",
              "    border: 2px solid var(--fill-color);\n",
              "    border-color: transparent;\n",
              "    border-bottom-color: var(--fill-color);\n",
              "    animation:\n",
              "      spin 1s steps(1) infinite;\n",
              "  }\n",
              "\n",
              "  @keyframes spin {\n",
              "    0% {\n",
              "      border-color: transparent;\n",
              "      border-bottom-color: var(--fill-color);\n",
              "      border-left-color: var(--fill-color);\n",
              "    }\n",
              "    20% {\n",
              "      border-color: transparent;\n",
              "      border-left-color: var(--fill-color);\n",
              "      border-top-color: var(--fill-color);\n",
              "    }\n",
              "    30% {\n",
              "      border-color: transparent;\n",
              "      border-left-color: var(--fill-color);\n",
              "      border-top-color: var(--fill-color);\n",
              "      border-right-color: var(--fill-color);\n",
              "    }\n",
              "    40% {\n",
              "      border-color: transparent;\n",
              "      border-right-color: var(--fill-color);\n",
              "      border-top-color: var(--fill-color);\n",
              "    }\n",
              "    60% {\n",
              "      border-color: transparent;\n",
              "      border-right-color: var(--fill-color);\n",
              "    }\n",
              "    80% {\n",
              "      border-color: transparent;\n",
              "      border-right-color: var(--fill-color);\n",
              "      border-bottom-color: var(--fill-color);\n",
              "    }\n",
              "    90% {\n",
              "      border-color: transparent;\n",
              "      border-bottom-color: var(--fill-color);\n",
              "    }\n",
              "  }\n",
              "</style>\n",
              "\n",
              "  <script>\n",
              "    async function quickchart(key) {\n",
              "      const quickchartButtonEl =\n",
              "        document.querySelector('#' + key + ' button');\n",
              "      quickchartButtonEl.disabled = true;  // To prevent multiple clicks.\n",
              "      quickchartButtonEl.classList.add('colab-df-spinner');\n",
              "      try {\n",
              "        const charts = await google.colab.kernel.invokeFunction(\n",
              "            'suggestCharts', [key], {});\n",
              "      } catch (error) {\n",
              "        console.error('Error during call to suggestCharts:', error);\n",
              "      }\n",
              "      quickchartButtonEl.classList.remove('colab-df-spinner');\n",
              "      quickchartButtonEl.classList.add('colab-df-quickchart-complete');\n",
              "    }\n",
              "    (() => {\n",
              "      let quickchartButtonEl =\n",
              "        document.querySelector('#df-fba7f745-8489-408b-a98f-7f7533f759b3 button');\n",
              "      quickchartButtonEl.style.display =\n",
              "        google.colab.kernel.accessAllowed ? 'block' : 'none';\n",
              "    })();\n",
              "  </script>\n",
              "</div>\n",
              "    </div>\n",
              "  </div>\n"
            ]
          },
          "metadata": {},
          "execution_count": 11
        }
      ]
    },
    {
      "cell_type": "code",
      "source": [
        "# Algumas linhas do DataFrame (se deixar o argumento vazio, padrão = 5)\n",
        "df.head(2)"
      ],
      "metadata": {
        "id": "cHkPXaW3AGT3",
        "colab": {
          "base_uri": "https://localhost:8080/",
          "height": 112
        },
        "outputId": "1f1d449e-a5b9-43a4-f5eb-8e1c53c575d7"
      },
      "execution_count": 12,
      "outputs": [
        {
          "output_type": "execute_result",
          "data": {
            "text/plain": [
              "   Coluna 1  Coluna 2\n",
              "0         1        10\n",
              "1         2        20"
            ],
            "text/html": [
              "\n",
              "  <div id=\"df-b5a1b051-f93f-4b60-9519-2e287adf4178\" class=\"colab-df-container\">\n",
              "    <div>\n",
              "<style scoped>\n",
              "    .dataframe tbody tr th:only-of-type {\n",
              "        vertical-align: middle;\n",
              "    }\n",
              "\n",
              "    .dataframe tbody tr th {\n",
              "        vertical-align: top;\n",
              "    }\n",
              "\n",
              "    .dataframe thead th {\n",
              "        text-align: right;\n",
              "    }\n",
              "</style>\n",
              "<table border=\"1\" class=\"dataframe\">\n",
              "  <thead>\n",
              "    <tr style=\"text-align: right;\">\n",
              "      <th></th>\n",
              "      <th>Coluna 1</th>\n",
              "      <th>Coluna 2</th>\n",
              "    </tr>\n",
              "  </thead>\n",
              "  <tbody>\n",
              "    <tr>\n",
              "      <th>0</th>\n",
              "      <td>1</td>\n",
              "      <td>10</td>\n",
              "    </tr>\n",
              "    <tr>\n",
              "      <th>1</th>\n",
              "      <td>2</td>\n",
              "      <td>20</td>\n",
              "    </tr>\n",
              "  </tbody>\n",
              "</table>\n",
              "</div>\n",
              "    <div class=\"colab-df-buttons\">\n",
              "\n",
              "  <div class=\"colab-df-container\">\n",
              "    <button class=\"colab-df-convert\" onclick=\"convertToInteractive('df-b5a1b051-f93f-4b60-9519-2e287adf4178')\"\n",
              "            title=\"Convert this dataframe to an interactive table.\"\n",
              "            style=\"display:none;\">\n",
              "\n",
              "  <svg xmlns=\"http://www.w3.org/2000/svg\" height=\"24px\" viewBox=\"0 -960 960 960\">\n",
              "    <path d=\"M120-120v-720h720v720H120Zm60-500h600v-160H180v160Zm220 220h160v-160H400v160Zm0 220h160v-160H400v160ZM180-400h160v-160H180v160Zm440 0h160v-160H620v160ZM180-180h160v-160H180v160Zm440 0h160v-160H620v160Z\"/>\n",
              "  </svg>\n",
              "    </button>\n",
              "\n",
              "  <style>\n",
              "    .colab-df-container {\n",
              "      display:flex;\n",
              "      gap: 12px;\n",
              "    }\n",
              "\n",
              "    .colab-df-convert {\n",
              "      background-color: #E8F0FE;\n",
              "      border: none;\n",
              "      border-radius: 50%;\n",
              "      cursor: pointer;\n",
              "      display: none;\n",
              "      fill: #1967D2;\n",
              "      height: 32px;\n",
              "      padding: 0 0 0 0;\n",
              "      width: 32px;\n",
              "    }\n",
              "\n",
              "    .colab-df-convert:hover {\n",
              "      background-color: #E2EBFA;\n",
              "      box-shadow: 0px 1px 2px rgba(60, 64, 67, 0.3), 0px 1px 3px 1px rgba(60, 64, 67, 0.15);\n",
              "      fill: #174EA6;\n",
              "    }\n",
              "\n",
              "    .colab-df-buttons div {\n",
              "      margin-bottom: 4px;\n",
              "    }\n",
              "\n",
              "    [theme=dark] .colab-df-convert {\n",
              "      background-color: #3B4455;\n",
              "      fill: #D2E3FC;\n",
              "    }\n",
              "\n",
              "    [theme=dark] .colab-df-convert:hover {\n",
              "      background-color: #434B5C;\n",
              "      box-shadow: 0px 1px 3px 1px rgba(0, 0, 0, 0.15);\n",
              "      filter: drop-shadow(0px 1px 2px rgba(0, 0, 0, 0.3));\n",
              "      fill: #FFFFFF;\n",
              "    }\n",
              "  </style>\n",
              "\n",
              "    <script>\n",
              "      const buttonEl =\n",
              "        document.querySelector('#df-b5a1b051-f93f-4b60-9519-2e287adf4178 button.colab-df-convert');\n",
              "      buttonEl.style.display =\n",
              "        google.colab.kernel.accessAllowed ? 'block' : 'none';\n",
              "\n",
              "      async function convertToInteractive(key) {\n",
              "        const element = document.querySelector('#df-b5a1b051-f93f-4b60-9519-2e287adf4178');\n",
              "        const dataTable =\n",
              "          await google.colab.kernel.invokeFunction('convertToInteractive',\n",
              "                                                    [key], {});\n",
              "        if (!dataTable) return;\n",
              "\n",
              "        const docLinkHtml = 'Like what you see? Visit the ' +\n",
              "          '<a target=\"_blank\" href=https://colab.research.google.com/notebooks/data_table.ipynb>data table notebook</a>'\n",
              "          + ' to learn more about interactive tables.';\n",
              "        element.innerHTML = '';\n",
              "        dataTable['output_type'] = 'display_data';\n",
              "        await google.colab.output.renderOutput(dataTable, element);\n",
              "        const docLink = document.createElement('div');\n",
              "        docLink.innerHTML = docLinkHtml;\n",
              "        element.appendChild(docLink);\n",
              "      }\n",
              "    </script>\n",
              "  </div>\n",
              "\n",
              "\n",
              "<div id=\"df-246fe606-6d74-4f5b-a0e0-5ac3a3a266eb\">\n",
              "  <button class=\"colab-df-quickchart\" onclick=\"quickchart('df-246fe606-6d74-4f5b-a0e0-5ac3a3a266eb')\"\n",
              "            title=\"Suggest charts\"\n",
              "            style=\"display:none;\">\n",
              "\n",
              "<svg xmlns=\"http://www.w3.org/2000/svg\" height=\"24px\"viewBox=\"0 0 24 24\"\n",
              "     width=\"24px\">\n",
              "    <g>\n",
              "        <path d=\"M19 3H5c-1.1 0-2 .9-2 2v14c0 1.1.9 2 2 2h14c1.1 0 2-.9 2-2V5c0-1.1-.9-2-2-2zM9 17H7v-7h2v7zm4 0h-2V7h2v10zm4 0h-2v-4h2v4z\"/>\n",
              "    </g>\n",
              "</svg>\n",
              "  </button>\n",
              "\n",
              "<style>\n",
              "  .colab-df-quickchart {\n",
              "      --bg-color: #E8F0FE;\n",
              "      --fill-color: #1967D2;\n",
              "      --hover-bg-color: #E2EBFA;\n",
              "      --hover-fill-color: #174EA6;\n",
              "      --disabled-fill-color: #AAA;\n",
              "      --disabled-bg-color: #DDD;\n",
              "  }\n",
              "\n",
              "  [theme=dark] .colab-df-quickchart {\n",
              "      --bg-color: #3B4455;\n",
              "      --fill-color: #D2E3FC;\n",
              "      --hover-bg-color: #434B5C;\n",
              "      --hover-fill-color: #FFFFFF;\n",
              "      --disabled-bg-color: #3B4455;\n",
              "      --disabled-fill-color: #666;\n",
              "  }\n",
              "\n",
              "  .colab-df-quickchart {\n",
              "    background-color: var(--bg-color);\n",
              "    border: none;\n",
              "    border-radius: 50%;\n",
              "    cursor: pointer;\n",
              "    display: none;\n",
              "    fill: var(--fill-color);\n",
              "    height: 32px;\n",
              "    padding: 0;\n",
              "    width: 32px;\n",
              "  }\n",
              "\n",
              "  .colab-df-quickchart:hover {\n",
              "    background-color: var(--hover-bg-color);\n",
              "    box-shadow: 0 1px 2px rgba(60, 64, 67, 0.3), 0 1px 3px 1px rgba(60, 64, 67, 0.15);\n",
              "    fill: var(--button-hover-fill-color);\n",
              "  }\n",
              "\n",
              "  .colab-df-quickchart-complete:disabled,\n",
              "  .colab-df-quickchart-complete:disabled:hover {\n",
              "    background-color: var(--disabled-bg-color);\n",
              "    fill: var(--disabled-fill-color);\n",
              "    box-shadow: none;\n",
              "  }\n",
              "\n",
              "  .colab-df-spinner {\n",
              "    border: 2px solid var(--fill-color);\n",
              "    border-color: transparent;\n",
              "    border-bottom-color: var(--fill-color);\n",
              "    animation:\n",
              "      spin 1s steps(1) infinite;\n",
              "  }\n",
              "\n",
              "  @keyframes spin {\n",
              "    0% {\n",
              "      border-color: transparent;\n",
              "      border-bottom-color: var(--fill-color);\n",
              "      border-left-color: var(--fill-color);\n",
              "    }\n",
              "    20% {\n",
              "      border-color: transparent;\n",
              "      border-left-color: var(--fill-color);\n",
              "      border-top-color: var(--fill-color);\n",
              "    }\n",
              "    30% {\n",
              "      border-color: transparent;\n",
              "      border-left-color: var(--fill-color);\n",
              "      border-top-color: var(--fill-color);\n",
              "      border-right-color: var(--fill-color);\n",
              "    }\n",
              "    40% {\n",
              "      border-color: transparent;\n",
              "      border-right-color: var(--fill-color);\n",
              "      border-top-color: var(--fill-color);\n",
              "    }\n",
              "    60% {\n",
              "      border-color: transparent;\n",
              "      border-right-color: var(--fill-color);\n",
              "    }\n",
              "    80% {\n",
              "      border-color: transparent;\n",
              "      border-right-color: var(--fill-color);\n",
              "      border-bottom-color: var(--fill-color);\n",
              "    }\n",
              "    90% {\n",
              "      border-color: transparent;\n",
              "      border-bottom-color: var(--fill-color);\n",
              "    }\n",
              "  }\n",
              "</style>\n",
              "\n",
              "  <script>\n",
              "    async function quickchart(key) {\n",
              "      const quickchartButtonEl =\n",
              "        document.querySelector('#' + key + ' button');\n",
              "      quickchartButtonEl.disabled = true;  // To prevent multiple clicks.\n",
              "      quickchartButtonEl.classList.add('colab-df-spinner');\n",
              "      try {\n",
              "        const charts = await google.colab.kernel.invokeFunction(\n",
              "            'suggestCharts', [key], {});\n",
              "      } catch (error) {\n",
              "        console.error('Error during call to suggestCharts:', error);\n",
              "      }\n",
              "      quickchartButtonEl.classList.remove('colab-df-spinner');\n",
              "      quickchartButtonEl.classList.add('colab-df-quickchart-complete');\n",
              "    }\n",
              "    (() => {\n",
              "      let quickchartButtonEl =\n",
              "        document.querySelector('#df-246fe606-6d74-4f5b-a0e0-5ac3a3a266eb button');\n",
              "      quickchartButtonEl.style.display =\n",
              "        google.colab.kernel.accessAllowed ? 'block' : 'none';\n",
              "    })();\n",
              "  </script>\n",
              "</div>\n",
              "    </div>\n",
              "  </div>\n"
            ]
          },
          "metadata": {},
          "execution_count": 12
        }
      ]
    },
    {
      "cell_type": "code",
      "source": [
        "# Uma coluna x do DataFrame:\n",
        "df['Coluna 2']"
      ],
      "metadata": {
        "id": "oBFmHOSQBvwi",
        "colab": {
          "base_uri": "https://localhost:8080/"
        },
        "outputId": "be6b29e6-9a06-4861-af87-cc95b8d0dc9a"
      },
      "execution_count": 13,
      "outputs": [
        {
          "output_type": "execute_result",
          "data": {
            "text/plain": [
              "0    10\n",
              "1    20\n",
              "2    30\n",
              "Name: Coluna 2, dtype: int64"
            ]
          },
          "metadata": {},
          "execution_count": 13
        }
      ]
    },
    {
      "cell_type": "markdown",
      "source": [
        "Logo trabalharemos com um \"dataset de verdade\", e então vocês aprenderão a colocar e importar um arquivo .csv em nosso colab!  :)"
      ],
      "metadata": {
        "id": "X6TMfUdjqvYX"
      }
    },
    {
      "cell_type": "markdown",
      "source": [
        "#<font color='#f1863d'> **Técnicas básicas de NLP: como lidar com dados textuais?**"
      ],
      "metadata": {
        "id": "e77r_mgSm0zb"
      }
    },
    {
      "cell_type": "markdown",
      "source": [
        "##<font color='#0660a2'> **Pré-processamento**"
      ],
      "metadata": {
        "id": "1LUqDuxunJLV"
      }
    },
    {
      "cell_type": "markdown",
      "source": [
        "O pré-processamento de dados desempenha um papel crucial no processamento de linguagem natural (NLP) ao lidar com texto e dados linguísticos. Ele envolve uma série de etapas que visam preparar os dados brutos para análise ou modelagem, tornando-os mais adequados para algoritmos de aprendizado de máquina. É uma etapa essencial para garantir que os modelos de aprendizado de máquina possam extrair informações relevantes e significativas dos dados textuais, melhorando a precisão e a eficácia das análises e tarefas realizadas.\n",
        "\n",
        "Hoje, veremos as seguintes etapas de pré-processamento:\n",
        "- Remoção de caracteres especiais;\n",
        "- Remoção de pontuações e acentuações;\n",
        "- Alteração para letras minúsculas;\n",
        "- Tokenização;\n",
        "- Remoção de stopwords;\n",
        "- Stemização;\n",
        "- Lematização.\n",
        "\n",
        "Para isso, usaremos um pequeno conjunto de dados sobre diferentes comerciais (reais) de desodorantes e perfumes, hidratantes e outros produtos de higiene pessoal. Estes dados estão classificados em duas classes, que indicam se a publicidade é voltada ao público feminino ou masculino."
      ],
      "metadata": {
        "id": "tam-4kp9H0S6"
      }
    },
    {
      "cell_type": "code",
      "source": [
        "# Importando as bibliotecas necessárias:\n",
        "import pandas as pd\n",
        "\n",
        "# Lendo o dataset:\n",
        "df = pd.read_csv('Propagandas.csv', index_col=0)\n",
        "df.reset_index(inplace = True)    # Deixa os índices no tipo [0, 1, ..., N-1].  (padrão numérico)\n",
        "df.head()"
      ],
      "metadata": {
        "id": "eZfEcW8ev9cb",
        "colab": {
          "base_uri": "https://localhost:8080/",
          "height": 206
        },
        "outputId": "a0f3d608-663a-4c2b-bc88-58ab22045bb9"
      },
      "execution_count": 16,
      "outputs": [
        {
          "output_type": "execute_result",
          "data": {
            "text/plain": [
              "                                       Título  \\\n",
              "0     Comercial do Creme Monange - +18 - 1996   \n",
              "1                   COMERCIAL: Monange (1997)   \n",
              "2  Comercial - Floratta Cerejeira O Boticário   \n",
              "3   Chegou Floratta Love Flower - O Boticário   \n",
              "4                  Comercial Monange com Xuxa   \n",
              "\n",
              "                                         Transcrição  Label  \n",
              "0  Eu adoro o - porque ele deixa a pele muito mac...      1  \n",
              "1  Eu uso -. É o - que deixa a minha pele assim, ...      1  \n",
              "2  Chegaram as novas fragrâncias de -. Inspiradas...      1  \n",
              "3  Dizem que um dos jeitos mais românticos de dec...      1  \n",
              "4  O - deixa a pele macia, cheirosa, gostosa, e, ...      1  "
            ],
            "text/html": [
              "\n",
              "  <div id=\"df-fbedc70c-b76b-4242-bceb-8b44d8a6b48c\" class=\"colab-df-container\">\n",
              "    <div>\n",
              "<style scoped>\n",
              "    .dataframe tbody tr th:only-of-type {\n",
              "        vertical-align: middle;\n",
              "    }\n",
              "\n",
              "    .dataframe tbody tr th {\n",
              "        vertical-align: top;\n",
              "    }\n",
              "\n",
              "    .dataframe thead th {\n",
              "        text-align: right;\n",
              "    }\n",
              "</style>\n",
              "<table border=\"1\" class=\"dataframe\">\n",
              "  <thead>\n",
              "    <tr style=\"text-align: right;\">\n",
              "      <th></th>\n",
              "      <th>Título</th>\n",
              "      <th>Transcrição</th>\n",
              "      <th>Label</th>\n",
              "    </tr>\n",
              "  </thead>\n",
              "  <tbody>\n",
              "    <tr>\n",
              "      <th>0</th>\n",
              "      <td>Comercial do Creme Monange - +18 - 1996</td>\n",
              "      <td>Eu adoro o - porque ele deixa a pele muito mac...</td>\n",
              "      <td>1</td>\n",
              "    </tr>\n",
              "    <tr>\n",
              "      <th>1</th>\n",
              "      <td>COMERCIAL: Monange (1997)</td>\n",
              "      <td>Eu uso -. É o - que deixa a minha pele assim, ...</td>\n",
              "      <td>1</td>\n",
              "    </tr>\n",
              "    <tr>\n",
              "      <th>2</th>\n",
              "      <td>Comercial - Floratta Cerejeira O Boticário</td>\n",
              "      <td>Chegaram as novas fragrâncias de -. Inspiradas...</td>\n",
              "      <td>1</td>\n",
              "    </tr>\n",
              "    <tr>\n",
              "      <th>3</th>\n",
              "      <td>Chegou Floratta Love Flower - O Boticário</td>\n",
              "      <td>Dizem que um dos jeitos mais românticos de dec...</td>\n",
              "      <td>1</td>\n",
              "    </tr>\n",
              "    <tr>\n",
              "      <th>4</th>\n",
              "      <td>Comercial Monange com Xuxa</td>\n",
              "      <td>O - deixa a pele macia, cheirosa, gostosa, e, ...</td>\n",
              "      <td>1</td>\n",
              "    </tr>\n",
              "  </tbody>\n",
              "</table>\n",
              "</div>\n",
              "    <div class=\"colab-df-buttons\">\n",
              "\n",
              "  <div class=\"colab-df-container\">\n",
              "    <button class=\"colab-df-convert\" onclick=\"convertToInteractive('df-fbedc70c-b76b-4242-bceb-8b44d8a6b48c')\"\n",
              "            title=\"Convert this dataframe to an interactive table.\"\n",
              "            style=\"display:none;\">\n",
              "\n",
              "  <svg xmlns=\"http://www.w3.org/2000/svg\" height=\"24px\" viewBox=\"0 -960 960 960\">\n",
              "    <path d=\"M120-120v-720h720v720H120Zm60-500h600v-160H180v160Zm220 220h160v-160H400v160Zm0 220h160v-160H400v160ZM180-400h160v-160H180v160Zm440 0h160v-160H620v160ZM180-180h160v-160H180v160Zm440 0h160v-160H620v160Z\"/>\n",
              "  </svg>\n",
              "    </button>\n",
              "\n",
              "  <style>\n",
              "    .colab-df-container {\n",
              "      display:flex;\n",
              "      gap: 12px;\n",
              "    }\n",
              "\n",
              "    .colab-df-convert {\n",
              "      background-color: #E8F0FE;\n",
              "      border: none;\n",
              "      border-radius: 50%;\n",
              "      cursor: pointer;\n",
              "      display: none;\n",
              "      fill: #1967D2;\n",
              "      height: 32px;\n",
              "      padding: 0 0 0 0;\n",
              "      width: 32px;\n",
              "    }\n",
              "\n",
              "    .colab-df-convert:hover {\n",
              "      background-color: #E2EBFA;\n",
              "      box-shadow: 0px 1px 2px rgba(60, 64, 67, 0.3), 0px 1px 3px 1px rgba(60, 64, 67, 0.15);\n",
              "      fill: #174EA6;\n",
              "    }\n",
              "\n",
              "    .colab-df-buttons div {\n",
              "      margin-bottom: 4px;\n",
              "    }\n",
              "\n",
              "    [theme=dark] .colab-df-convert {\n",
              "      background-color: #3B4455;\n",
              "      fill: #D2E3FC;\n",
              "    }\n",
              "\n",
              "    [theme=dark] .colab-df-convert:hover {\n",
              "      background-color: #434B5C;\n",
              "      box-shadow: 0px 1px 3px 1px rgba(0, 0, 0, 0.15);\n",
              "      filter: drop-shadow(0px 1px 2px rgba(0, 0, 0, 0.3));\n",
              "      fill: #FFFFFF;\n",
              "    }\n",
              "  </style>\n",
              "\n",
              "    <script>\n",
              "      const buttonEl =\n",
              "        document.querySelector('#df-fbedc70c-b76b-4242-bceb-8b44d8a6b48c button.colab-df-convert');\n",
              "      buttonEl.style.display =\n",
              "        google.colab.kernel.accessAllowed ? 'block' : 'none';\n",
              "\n",
              "      async function convertToInteractive(key) {\n",
              "        const element = document.querySelector('#df-fbedc70c-b76b-4242-bceb-8b44d8a6b48c');\n",
              "        const dataTable =\n",
              "          await google.colab.kernel.invokeFunction('convertToInteractive',\n",
              "                                                    [key], {});\n",
              "        if (!dataTable) return;\n",
              "\n",
              "        const docLinkHtml = 'Like what you see? Visit the ' +\n",
              "          '<a target=\"_blank\" href=https://colab.research.google.com/notebooks/data_table.ipynb>data table notebook</a>'\n",
              "          + ' to learn more about interactive tables.';\n",
              "        element.innerHTML = '';\n",
              "        dataTable['output_type'] = 'display_data';\n",
              "        await google.colab.output.renderOutput(dataTable, element);\n",
              "        const docLink = document.createElement('div');\n",
              "        docLink.innerHTML = docLinkHtml;\n",
              "        element.appendChild(docLink);\n",
              "      }\n",
              "    </script>\n",
              "  </div>\n",
              "\n",
              "\n",
              "<div id=\"df-76ccc85c-25f3-4f59-ae38-e471e5bd0fd3\">\n",
              "  <button class=\"colab-df-quickchart\" onclick=\"quickchart('df-76ccc85c-25f3-4f59-ae38-e471e5bd0fd3')\"\n",
              "            title=\"Suggest charts\"\n",
              "            style=\"display:none;\">\n",
              "\n",
              "<svg xmlns=\"http://www.w3.org/2000/svg\" height=\"24px\"viewBox=\"0 0 24 24\"\n",
              "     width=\"24px\">\n",
              "    <g>\n",
              "        <path d=\"M19 3H5c-1.1 0-2 .9-2 2v14c0 1.1.9 2 2 2h14c1.1 0 2-.9 2-2V5c0-1.1-.9-2-2-2zM9 17H7v-7h2v7zm4 0h-2V7h2v10zm4 0h-2v-4h2v4z\"/>\n",
              "    </g>\n",
              "</svg>\n",
              "  </button>\n",
              "\n",
              "<style>\n",
              "  .colab-df-quickchart {\n",
              "      --bg-color: #E8F0FE;\n",
              "      --fill-color: #1967D2;\n",
              "      --hover-bg-color: #E2EBFA;\n",
              "      --hover-fill-color: #174EA6;\n",
              "      --disabled-fill-color: #AAA;\n",
              "      --disabled-bg-color: #DDD;\n",
              "  }\n",
              "\n",
              "  [theme=dark] .colab-df-quickchart {\n",
              "      --bg-color: #3B4455;\n",
              "      --fill-color: #D2E3FC;\n",
              "      --hover-bg-color: #434B5C;\n",
              "      --hover-fill-color: #FFFFFF;\n",
              "      --disabled-bg-color: #3B4455;\n",
              "      --disabled-fill-color: #666;\n",
              "  }\n",
              "\n",
              "  .colab-df-quickchart {\n",
              "    background-color: var(--bg-color);\n",
              "    border: none;\n",
              "    border-radius: 50%;\n",
              "    cursor: pointer;\n",
              "    display: none;\n",
              "    fill: var(--fill-color);\n",
              "    height: 32px;\n",
              "    padding: 0;\n",
              "    width: 32px;\n",
              "  }\n",
              "\n",
              "  .colab-df-quickchart:hover {\n",
              "    background-color: var(--hover-bg-color);\n",
              "    box-shadow: 0 1px 2px rgba(60, 64, 67, 0.3), 0 1px 3px 1px rgba(60, 64, 67, 0.15);\n",
              "    fill: var(--button-hover-fill-color);\n",
              "  }\n",
              "\n",
              "  .colab-df-quickchart-complete:disabled,\n",
              "  .colab-df-quickchart-complete:disabled:hover {\n",
              "    background-color: var(--disabled-bg-color);\n",
              "    fill: var(--disabled-fill-color);\n",
              "    box-shadow: none;\n",
              "  }\n",
              "\n",
              "  .colab-df-spinner {\n",
              "    border: 2px solid var(--fill-color);\n",
              "    border-color: transparent;\n",
              "    border-bottom-color: var(--fill-color);\n",
              "    animation:\n",
              "      spin 1s steps(1) infinite;\n",
              "  }\n",
              "\n",
              "  @keyframes spin {\n",
              "    0% {\n",
              "      border-color: transparent;\n",
              "      border-bottom-color: var(--fill-color);\n",
              "      border-left-color: var(--fill-color);\n",
              "    }\n",
              "    20% {\n",
              "      border-color: transparent;\n",
              "      border-left-color: var(--fill-color);\n",
              "      border-top-color: var(--fill-color);\n",
              "    }\n",
              "    30% {\n",
              "      border-color: transparent;\n",
              "      border-left-color: var(--fill-color);\n",
              "      border-top-color: var(--fill-color);\n",
              "      border-right-color: var(--fill-color);\n",
              "    }\n",
              "    40% {\n",
              "      border-color: transparent;\n",
              "      border-right-color: var(--fill-color);\n",
              "      border-top-color: var(--fill-color);\n",
              "    }\n",
              "    60% {\n",
              "      border-color: transparent;\n",
              "      border-right-color: var(--fill-color);\n",
              "    }\n",
              "    80% {\n",
              "      border-color: transparent;\n",
              "      border-right-color: var(--fill-color);\n",
              "      border-bottom-color: var(--fill-color);\n",
              "    }\n",
              "    90% {\n",
              "      border-color: transparent;\n",
              "      border-bottom-color: var(--fill-color);\n",
              "    }\n",
              "  }\n",
              "</style>\n",
              "\n",
              "  <script>\n",
              "    async function quickchart(key) {\n",
              "      const quickchartButtonEl =\n",
              "        document.querySelector('#' + key + ' button');\n",
              "      quickchartButtonEl.disabled = true;  // To prevent multiple clicks.\n",
              "      quickchartButtonEl.classList.add('colab-df-spinner');\n",
              "      try {\n",
              "        const charts = await google.colab.kernel.invokeFunction(\n",
              "            'suggestCharts', [key], {});\n",
              "      } catch (error) {\n",
              "        console.error('Error during call to suggestCharts:', error);\n",
              "      }\n",
              "      quickchartButtonEl.classList.remove('colab-df-spinner');\n",
              "      quickchartButtonEl.classList.add('colab-df-quickchart-complete');\n",
              "    }\n",
              "    (() => {\n",
              "      let quickchartButtonEl =\n",
              "        document.querySelector('#df-76ccc85c-25f3-4f59-ae38-e471e5bd0fd3 button');\n",
              "      quickchartButtonEl.style.display =\n",
              "        google.colab.kernel.accessAllowed ? 'block' : 'none';\n",
              "    })();\n",
              "  </script>\n",
              "</div>\n",
              "    </div>\n",
              "  </div>\n"
            ]
          },
          "metadata": {},
          "execution_count": 16
        }
      ]
    },
    {
      "cell_type": "markdown",
      "source": [
        "Esse dataset também será usado na segunda aula e, por isso, colocamos alguns \"-\" para censurar os nomes das marcas e produtos. Por enquanto isso não será relevante, mas, em breve, vocês entenderão...\n",
        "\n",
        "Porém, já podemos adiantar que nós trabalharemos apenas com a transcrição e a label. Assim, vamos dropar o título, que foi posto apenas à título de curiosidade :)"
      ],
      "metadata": {
        "id": "PvnKIVCl2Y_1"
      }
    },
    {
      "cell_type": "code",
      "source": [
        "# Excluindo a coluna do título:\n",
        "df.drop(columns=df.columns[0], inplace = True)\n",
        "\n",
        "df.head()"
      ],
      "metadata": {
        "id": "ZcZO5h8_2P06",
        "colab": {
          "base_uri": "https://localhost:8080/",
          "height": 206
        },
        "outputId": "9a96e872-ee51-499f-9440-022bd8f6e275"
      },
      "execution_count": 17,
      "outputs": [
        {
          "output_type": "execute_result",
          "data": {
            "text/plain": [
              "                                         Transcrição  Label\n",
              "0  Eu adoro o - porque ele deixa a pele muito mac...      1\n",
              "1  Eu uso -. É o - que deixa a minha pele assim, ...      1\n",
              "2  Chegaram as novas fragrâncias de -. Inspiradas...      1\n",
              "3  Dizem que um dos jeitos mais românticos de dec...      1\n",
              "4  O - deixa a pele macia, cheirosa, gostosa, e, ...      1"
            ],
            "text/html": [
              "\n",
              "  <div id=\"df-4ada5152-1fd0-47c1-80a9-749a6fd14906\" class=\"colab-df-container\">\n",
              "    <div>\n",
              "<style scoped>\n",
              "    .dataframe tbody tr th:only-of-type {\n",
              "        vertical-align: middle;\n",
              "    }\n",
              "\n",
              "    .dataframe tbody tr th {\n",
              "        vertical-align: top;\n",
              "    }\n",
              "\n",
              "    .dataframe thead th {\n",
              "        text-align: right;\n",
              "    }\n",
              "</style>\n",
              "<table border=\"1\" class=\"dataframe\">\n",
              "  <thead>\n",
              "    <tr style=\"text-align: right;\">\n",
              "      <th></th>\n",
              "      <th>Transcrição</th>\n",
              "      <th>Label</th>\n",
              "    </tr>\n",
              "  </thead>\n",
              "  <tbody>\n",
              "    <tr>\n",
              "      <th>0</th>\n",
              "      <td>Eu adoro o - porque ele deixa a pele muito mac...</td>\n",
              "      <td>1</td>\n",
              "    </tr>\n",
              "    <tr>\n",
              "      <th>1</th>\n",
              "      <td>Eu uso -. É o - que deixa a minha pele assim, ...</td>\n",
              "      <td>1</td>\n",
              "    </tr>\n",
              "    <tr>\n",
              "      <th>2</th>\n",
              "      <td>Chegaram as novas fragrâncias de -. Inspiradas...</td>\n",
              "      <td>1</td>\n",
              "    </tr>\n",
              "    <tr>\n",
              "      <th>3</th>\n",
              "      <td>Dizem que um dos jeitos mais românticos de dec...</td>\n",
              "      <td>1</td>\n",
              "    </tr>\n",
              "    <tr>\n",
              "      <th>4</th>\n",
              "      <td>O - deixa a pele macia, cheirosa, gostosa, e, ...</td>\n",
              "      <td>1</td>\n",
              "    </tr>\n",
              "  </tbody>\n",
              "</table>\n",
              "</div>\n",
              "    <div class=\"colab-df-buttons\">\n",
              "\n",
              "  <div class=\"colab-df-container\">\n",
              "    <button class=\"colab-df-convert\" onclick=\"convertToInteractive('df-4ada5152-1fd0-47c1-80a9-749a6fd14906')\"\n",
              "            title=\"Convert this dataframe to an interactive table.\"\n",
              "            style=\"display:none;\">\n",
              "\n",
              "  <svg xmlns=\"http://www.w3.org/2000/svg\" height=\"24px\" viewBox=\"0 -960 960 960\">\n",
              "    <path d=\"M120-120v-720h720v720H120Zm60-500h600v-160H180v160Zm220 220h160v-160H400v160Zm0 220h160v-160H400v160ZM180-400h160v-160H180v160Zm440 0h160v-160H620v160ZM180-180h160v-160H180v160Zm440 0h160v-160H620v160Z\"/>\n",
              "  </svg>\n",
              "    </button>\n",
              "\n",
              "  <style>\n",
              "    .colab-df-container {\n",
              "      display:flex;\n",
              "      gap: 12px;\n",
              "    }\n",
              "\n",
              "    .colab-df-convert {\n",
              "      background-color: #E8F0FE;\n",
              "      border: none;\n",
              "      border-radius: 50%;\n",
              "      cursor: pointer;\n",
              "      display: none;\n",
              "      fill: #1967D2;\n",
              "      height: 32px;\n",
              "      padding: 0 0 0 0;\n",
              "      width: 32px;\n",
              "    }\n",
              "\n",
              "    .colab-df-convert:hover {\n",
              "      background-color: #E2EBFA;\n",
              "      box-shadow: 0px 1px 2px rgba(60, 64, 67, 0.3), 0px 1px 3px 1px rgba(60, 64, 67, 0.15);\n",
              "      fill: #174EA6;\n",
              "    }\n",
              "\n",
              "    .colab-df-buttons div {\n",
              "      margin-bottom: 4px;\n",
              "    }\n",
              "\n",
              "    [theme=dark] .colab-df-convert {\n",
              "      background-color: #3B4455;\n",
              "      fill: #D2E3FC;\n",
              "    }\n",
              "\n",
              "    [theme=dark] .colab-df-convert:hover {\n",
              "      background-color: #434B5C;\n",
              "      box-shadow: 0px 1px 3px 1px rgba(0, 0, 0, 0.15);\n",
              "      filter: drop-shadow(0px 1px 2px rgba(0, 0, 0, 0.3));\n",
              "      fill: #FFFFFF;\n",
              "    }\n",
              "  </style>\n",
              "\n",
              "    <script>\n",
              "      const buttonEl =\n",
              "        document.querySelector('#df-4ada5152-1fd0-47c1-80a9-749a6fd14906 button.colab-df-convert');\n",
              "      buttonEl.style.display =\n",
              "        google.colab.kernel.accessAllowed ? 'block' : 'none';\n",
              "\n",
              "      async function convertToInteractive(key) {\n",
              "        const element = document.querySelector('#df-4ada5152-1fd0-47c1-80a9-749a6fd14906');\n",
              "        const dataTable =\n",
              "          await google.colab.kernel.invokeFunction('convertToInteractive',\n",
              "                                                    [key], {});\n",
              "        if (!dataTable) return;\n",
              "\n",
              "        const docLinkHtml = 'Like what you see? Visit the ' +\n",
              "          '<a target=\"_blank\" href=https://colab.research.google.com/notebooks/data_table.ipynb>data table notebook</a>'\n",
              "          + ' to learn more about interactive tables.';\n",
              "        element.innerHTML = '';\n",
              "        dataTable['output_type'] = 'display_data';\n",
              "        await google.colab.output.renderOutput(dataTable, element);\n",
              "        const docLink = document.createElement('div');\n",
              "        docLink.innerHTML = docLinkHtml;\n",
              "        element.appendChild(docLink);\n",
              "      }\n",
              "    </script>\n",
              "  </div>\n",
              "\n",
              "\n",
              "<div id=\"df-9b01b950-cb60-425a-b634-a81715030243\">\n",
              "  <button class=\"colab-df-quickchart\" onclick=\"quickchart('df-9b01b950-cb60-425a-b634-a81715030243')\"\n",
              "            title=\"Suggest charts\"\n",
              "            style=\"display:none;\">\n",
              "\n",
              "<svg xmlns=\"http://www.w3.org/2000/svg\" height=\"24px\"viewBox=\"0 0 24 24\"\n",
              "     width=\"24px\">\n",
              "    <g>\n",
              "        <path d=\"M19 3H5c-1.1 0-2 .9-2 2v14c0 1.1.9 2 2 2h14c1.1 0 2-.9 2-2V5c0-1.1-.9-2-2-2zM9 17H7v-7h2v7zm4 0h-2V7h2v10zm4 0h-2v-4h2v4z\"/>\n",
              "    </g>\n",
              "</svg>\n",
              "  </button>\n",
              "\n",
              "<style>\n",
              "  .colab-df-quickchart {\n",
              "      --bg-color: #E8F0FE;\n",
              "      --fill-color: #1967D2;\n",
              "      --hover-bg-color: #E2EBFA;\n",
              "      --hover-fill-color: #174EA6;\n",
              "      --disabled-fill-color: #AAA;\n",
              "      --disabled-bg-color: #DDD;\n",
              "  }\n",
              "\n",
              "  [theme=dark] .colab-df-quickchart {\n",
              "      --bg-color: #3B4455;\n",
              "      --fill-color: #D2E3FC;\n",
              "      --hover-bg-color: #434B5C;\n",
              "      --hover-fill-color: #FFFFFF;\n",
              "      --disabled-bg-color: #3B4455;\n",
              "      --disabled-fill-color: #666;\n",
              "  }\n",
              "\n",
              "  .colab-df-quickchart {\n",
              "    background-color: var(--bg-color);\n",
              "    border: none;\n",
              "    border-radius: 50%;\n",
              "    cursor: pointer;\n",
              "    display: none;\n",
              "    fill: var(--fill-color);\n",
              "    height: 32px;\n",
              "    padding: 0;\n",
              "    width: 32px;\n",
              "  }\n",
              "\n",
              "  .colab-df-quickchart:hover {\n",
              "    background-color: var(--hover-bg-color);\n",
              "    box-shadow: 0 1px 2px rgba(60, 64, 67, 0.3), 0 1px 3px 1px rgba(60, 64, 67, 0.15);\n",
              "    fill: var(--button-hover-fill-color);\n",
              "  }\n",
              "\n",
              "  .colab-df-quickchart-complete:disabled,\n",
              "  .colab-df-quickchart-complete:disabled:hover {\n",
              "    background-color: var(--disabled-bg-color);\n",
              "    fill: var(--disabled-fill-color);\n",
              "    box-shadow: none;\n",
              "  }\n",
              "\n",
              "  .colab-df-spinner {\n",
              "    border: 2px solid var(--fill-color);\n",
              "    border-color: transparent;\n",
              "    border-bottom-color: var(--fill-color);\n",
              "    animation:\n",
              "      spin 1s steps(1) infinite;\n",
              "  }\n",
              "\n",
              "  @keyframes spin {\n",
              "    0% {\n",
              "      border-color: transparent;\n",
              "      border-bottom-color: var(--fill-color);\n",
              "      border-left-color: var(--fill-color);\n",
              "    }\n",
              "    20% {\n",
              "      border-color: transparent;\n",
              "      border-left-color: var(--fill-color);\n",
              "      border-top-color: var(--fill-color);\n",
              "    }\n",
              "    30% {\n",
              "      border-color: transparent;\n",
              "      border-left-color: var(--fill-color);\n",
              "      border-top-color: var(--fill-color);\n",
              "      border-right-color: var(--fill-color);\n",
              "    }\n",
              "    40% {\n",
              "      border-color: transparent;\n",
              "      border-right-color: var(--fill-color);\n",
              "      border-top-color: var(--fill-color);\n",
              "    }\n",
              "    60% {\n",
              "      border-color: transparent;\n",
              "      border-right-color: var(--fill-color);\n",
              "    }\n",
              "    80% {\n",
              "      border-color: transparent;\n",
              "      border-right-color: var(--fill-color);\n",
              "      border-bottom-color: var(--fill-color);\n",
              "    }\n",
              "    90% {\n",
              "      border-color: transparent;\n",
              "      border-bottom-color: var(--fill-color);\n",
              "    }\n",
              "  }\n",
              "</style>\n",
              "\n",
              "  <script>\n",
              "    async function quickchart(key) {\n",
              "      const quickchartButtonEl =\n",
              "        document.querySelector('#' + key + ' button');\n",
              "      quickchartButtonEl.disabled = true;  // To prevent multiple clicks.\n",
              "      quickchartButtonEl.classList.add('colab-df-spinner');\n",
              "      try {\n",
              "        const charts = await google.colab.kernel.invokeFunction(\n",
              "            'suggestCharts', [key], {});\n",
              "      } catch (error) {\n",
              "        console.error('Error during call to suggestCharts:', error);\n",
              "      }\n",
              "      quickchartButtonEl.classList.remove('colab-df-spinner');\n",
              "      quickchartButtonEl.classList.add('colab-df-quickchart-complete');\n",
              "    }\n",
              "    (() => {\n",
              "      let quickchartButtonEl =\n",
              "        document.querySelector('#df-9b01b950-cb60-425a-b634-a81715030243 button');\n",
              "      quickchartButtonEl.style.display =\n",
              "        google.colab.kernel.accessAllowed ? 'block' : 'none';\n",
              "    })();\n",
              "  </script>\n",
              "</div>\n",
              "    </div>\n",
              "  </div>\n"
            ]
          },
          "metadata": {},
          "execution_count": 17
        }
      ]
    },
    {
      "cell_type": "markdown",
      "source": [
        "#### OBS: https://www.youtube.com/watch?v=YRtHIbcKTCk\n",
        "\n",
        "\n",
        "####Embora esse vídeo não tenha entrado para o nosso dataset, POR FAVOR vamos assistí-lo. Eu nunca vi uma demonstração de masculinidade frágil maior que essa, É MUITO RUIM."
      ],
      "metadata": {
        "id": "vdpmnXJXEkE7"
      }
    },
    {
      "cell_type": "markdown",
      "source": [
        "###<font color='#0660a2'> Remoção de caracteres especiais"
      ],
      "metadata": {
        "id": "-ePrpQsb2vro"
      }
    },
    {
      "cell_type": "markdown",
      "source": [
        "MUITO útil quando fazemos web-scraping (não é o caso) ou retiramos dados brutos da internet."
      ],
      "metadata": {
        "id": "t7AfvnjB605n"
      }
    },
    {
      "cell_type": "code",
      "source": [
        "# Importando as bibliotecas necessárias:\n",
        "import unicodedata\n",
        "\n",
        "# Criando uma função que remova os caracteres especiais:\n",
        "def remocao_caracter_especial(text):\n",
        "  text = unicodedata.normalize(\"NFKD\", text)   #\n",
        "  return text\n",
        "\n",
        "df.Transcrição =  df.Transcrição.apply(remocao_caracter_especial)"
      ],
      "metadata": {
        "id": "yR-h_uxj3GBN"
      },
      "execution_count": 18,
      "outputs": []
    },
    {
      "cell_type": "code",
      "source": [
        "df.Transcrição[1]"
      ],
      "metadata": {
        "id": "dEhd7cLy8w1u",
        "colab": {
          "base_uri": "https://localhost:8080/",
          "height": 36
        },
        "outputId": "8f2930ea-9f0a-479f-fabf-b3e639532b51"
      },
      "execution_count": 19,
      "outputs": [
        {
          "output_type": "execute_result",
          "data": {
            "text/plain": [
              "'Eu uso -. É o - que deixa a minha pele assim, macia, suave, gostosa. E agora - tem novos perfumes, e essa nova embalagem. Sensacional.'"
            ],
            "application/vnd.google.colaboratory.intrinsic+json": {
              "type": "string"
            }
          },
          "metadata": {},
          "execution_count": 19
        }
      ]
    },
    {
      "cell_type": "markdown",
      "source": [
        "###<font color='#0660a2'> Remoção de pontuações e acentuações"
      ],
      "metadata": {
        "id": "rsHhFSBs3sxc"
      }
    },
    {
      "cell_type": "code",
      "source": [
        "# Importando as bibliotecas necessárias:\n",
        "import re    # \"Expessões regulares\"\n",
        "\n",
        "# Criando uma função que remova as pontuações:\n",
        "def remove_ponctuation(text):\n",
        "  text = re.sub(r'[^\\w\\s]', '', text)     # Expressão para retirar caracteres que não sejam alfanuméricos (\\w) ou espaços em branco (\\s).\n",
        "  return text\n",
        "\n",
        "df.Transcrição =  df.Transcrição.apply(remove_ponctuation)"
      ],
      "metadata": {
        "id": "0wMmNQmD30kf"
      },
      "execution_count": 20,
      "outputs": []
    },
    {
      "cell_type": "code",
      "source": [
        "df.Transcrição[1]"
      ],
      "metadata": {
        "id": "TbS4P5cd8x4K",
        "colab": {
          "base_uri": "https://localhost:8080/",
          "height": 36
        },
        "outputId": "2a716768-2676-41ac-ad72-0c39d3a38ed7"
      },
      "execution_count": 21,
      "outputs": [
        {
          "output_type": "execute_result",
          "data": {
            "text/plain": [
              "'Eu uso  E o  que deixa a minha pele assim macia suave gostosa E agora  tem novos perfumes e essa nova embalagem Sensacional'"
            ],
            "application/vnd.google.colaboratory.intrinsic+json": {
              "type": "string"
            }
          },
          "metadata": {},
          "execution_count": 21
        }
      ]
    },
    {
      "cell_type": "markdown",
      "source": [
        "###<font color='#0660a2'> Alteração para letras minúsculas"
      ],
      "metadata": {
        "id": "eSBlgcy88NcP"
      }
    },
    {
      "cell_type": "code",
      "source": [
        "# Alterando para caixa baixa:\n",
        "df.Transcrição = df.Transcrição.str.lower()"
      ],
      "metadata": {
        "id": "Ppy5Q1AO8jkl"
      },
      "execution_count": 22,
      "outputs": []
    },
    {
      "cell_type": "code",
      "source": [
        "df.Transcrição[1]"
      ],
      "metadata": {
        "id": "FnBTDhUc8ymo",
        "colab": {
          "base_uri": "https://localhost:8080/",
          "height": 36
        },
        "outputId": "bb6792bd-5d1a-480c-ed79-5646c7f7cd06"
      },
      "execution_count": 23,
      "outputs": [
        {
          "output_type": "execute_result",
          "data": {
            "text/plain": [
              "'eu uso  e o  que deixa a minha pele assim macia suave gostosa e agora  tem novos perfumes e essa nova embalagem sensacional'"
            ],
            "application/vnd.google.colaboratory.intrinsic+json": {
              "type": "string"
            }
          },
          "metadata": {},
          "execution_count": 23
        }
      ]
    },
    {
      "cell_type": "markdown",
      "source": [
        "###<font color='#0660a2'> Tokenização"
      ],
      "metadata": {
        "id": "v3YQC3BY5HuN"
      }
    },
    {
      "cell_type": "markdown",
      "source": [
        "Segmentação de um texto em unidades menores, seja esta unidade sentenças, palavras ou caracteres.\n"
      ],
      "metadata": {
        "id": "w-dx3Bin5TUm"
      }
    },
    {
      "cell_type": "code",
      "source": [
        "# Importando as dependências necessárias:\n",
        "import nltk    # \"Natural Language Toolkit\".\n",
        "from nltk.tokenize import word_tokenize  # Para dividir em palavras.\n",
        "nltk.download('punkt')   # Modelo treinado para identificar os pontos nos quais uma sentença ou palavra termina e outra começa, garantindo uma tokenização inteligente.\n",
        "\n",
        "# Segmentando o texto em palavras:\n",
        "df.Transcrição = df['Transcrição'].apply(word_tokenize)"
      ],
      "metadata": {
        "id": "7EAi4-3u5LYt",
        "colab": {
          "base_uri": "https://localhost:8080/"
        },
        "outputId": "8e9ad234-957b-4eed-c099-35b6bd906f82"
      },
      "execution_count": 24,
      "outputs": [
        {
          "output_type": "stream",
          "name": "stderr",
          "text": [
            "[nltk_data] Downloading package punkt to /root/nltk_data...\n",
            "[nltk_data]   Unzipping tokenizers/punkt.zip.\n"
          ]
        }
      ]
    },
    {
      "cell_type": "code",
      "source": [
        "df.Transcrição[1]"
      ],
      "metadata": {
        "id": "uPq8MbfW89be",
        "colab": {
          "base_uri": "https://localhost:8080/"
        },
        "outputId": "90841f38-3bf5-4321-dcb1-a191946df7eb"
      },
      "execution_count": 25,
      "outputs": [
        {
          "output_type": "execute_result",
          "data": {
            "text/plain": [
              "['eu',\n",
              " 'uso',\n",
              " 'e',\n",
              " 'o',\n",
              " 'que',\n",
              " 'deixa',\n",
              " 'a',\n",
              " 'minha',\n",
              " 'pele',\n",
              " 'assim',\n",
              " 'macia',\n",
              " 'suave',\n",
              " 'gostosa',\n",
              " 'e',\n",
              " 'agora',\n",
              " 'tem',\n",
              " 'novos',\n",
              " 'perfumes',\n",
              " 'e',\n",
              " 'essa',\n",
              " 'nova',\n",
              " 'embalagem',\n",
              " 'sensacional']"
            ]
          },
          "metadata": {},
          "execution_count": 25
        }
      ]
    },
    {
      "cell_type": "markdown",
      "source": [
        "###<font color='#0660a2'> Remoção de palavras vazias (stopwords)"
      ],
      "metadata": {
        "id": "K07LQBYr9IpW"
      }
    },
    {
      "cell_type": "markdown",
      "source": [
        "\"Cola sintática\" de pouco significado para nosso uso, como  artigos (o, a), conjunções (que, se), preposições (de, com), verbos auxiliares (ter, ser), pronomes (eu, ele)."
      ],
      "metadata": {
        "id": "DypipxKDELXa"
      }
    },
    {
      "cell_type": "code",
      "source": [
        "# Importando a lista de stopwords do NTLK:\n",
        "nltk.download('stopwords')\n",
        "from nltk.corpus import stopwords\n",
        "stopwords = stopwords.words('portuguese')   #lista com as stopwords do português\n",
        "\n",
        "# Removendo as stopwords do texto:\n",
        "i = 0\n",
        "for text in df.Transcrição:\n",
        "  meaningful_words = []\n",
        "  for word in text:\n",
        "    if word not in stopwords:\n",
        "      meaningful_words.append(word)\n",
        "  df.loc[i, 'Transcrição'] = ' '.join(meaningful_words)\n",
        "  i += 1"
      ],
      "metadata": {
        "id": "Taa5kRbt9Voo",
        "colab": {
          "base_uri": "https://localhost:8080/"
        },
        "outputId": "fe510e01-5a4b-4c68-cd49-76ae7f7c4b4e"
      },
      "execution_count": 26,
      "outputs": [
        {
          "output_type": "stream",
          "name": "stderr",
          "text": [
            "[nltk_data] Downloading package stopwords to /root/nltk_data...\n",
            "[nltk_data]   Unzipping corpora/stopwords.zip.\n"
          ]
        }
      ]
    },
    {
      "cell_type": "code",
      "source": [
        "df.Transcrição[1]"
      ],
      "metadata": {
        "id": "o1ew_jjkABa3",
        "colab": {
          "base_uri": "https://localhost:8080/",
          "height": 36
        },
        "outputId": "09d77084-5057-4e80-e427-04f520da0b0c"
      },
      "execution_count": 27,
      "outputs": [
        {
          "output_type": "execute_result",
          "data": {
            "text/plain": [
              "'uso deixa pele assim macia suave gostosa agora novos perfumes nova embalagem sensacional'"
            ],
            "application/vnd.google.colaboratory.intrinsic+json": {
              "type": "string"
            }
          },
          "metadata": {},
          "execution_count": 27
        }
      ]
    },
    {
      "cell_type": "markdown",
      "source": [
        "###<font color='#0660a2'> Stemização (com NLTK)"
      ],
      "metadata": {
        "id": "SJoVNLtbDzbJ"
      }
    },
    {
      "cell_type": "markdown",
      "source": [
        "Reduz as palavras a suas raizes - assim, é possível que o resultado seja uma forma não dicionarizada da palavra original.\n"
      ],
      "metadata": {
        "id": "wTZghWWlFkGk"
      }
    },
    {
      "cell_type": "code",
      "source": [
        "# Criando uma cópia tokenizada do nosso dataset limpo para realizar a stemização e lematização:\n",
        "df.copia = df.Transcrição\n",
        "df.copia = df['Transcrição'].apply(word_tokenize)"
      ],
      "metadata": {
        "colab": {
          "base_uri": "https://localhost:8080/"
        },
        "id": "AD8GYjTIOCGj",
        "outputId": "55cb6336-c6c1-4429-ac59-73de6cd042db"
      },
      "execution_count": 28,
      "outputs": [
        {
          "output_type": "stream",
          "name": "stderr",
          "text": [
            "<ipython-input-28-a04f8c0102df>:2: UserWarning: Pandas doesn't allow columns to be created via a new attribute name - see https://pandas.pydata.org/pandas-docs/stable/indexing.html#attribute-access\n",
            "  df.copia = df.Transcrição\n"
          ]
        }
      ]
    },
    {
      "cell_type": "code",
      "source": [
        "# Importando o stemmer \"Porter\" (mas poderia ser \"Lancaster\", também - o ideal é sempre testar os dois para descobrir qual melhor se aplica aos seus dados):\n",
        "porter = nltk.PorterStemmer()\n",
        "\n",
        "# Stemizando o texto:\n",
        "porter_list = []\n",
        "for i in range(len(df.copia)):\n",
        "    porter_tokens = []\n",
        "    for word in df.copia[i]:\n",
        "        porter_tokens.append(porter.stem(word))\n",
        "    porter_list.append(porter_tokens)\n",
        "\n",
        "# Juntando a lista de listas de palavras em uma lista de sentenças:\n",
        "porter_text = []\n",
        "for i in porter_list:\n",
        "     porter_text.append(' '.join(i))"
      ],
      "metadata": {
        "id": "WCe74tk2E9MN"
      },
      "execution_count": 29,
      "outputs": []
    },
    {
      "cell_type": "code",
      "source": [
        "porter_text"
      ],
      "metadata": {
        "id": "KgLG6nVHGvjW",
        "colab": {
          "base_uri": "https://localhost:8080/"
        },
        "outputId": "218eea25-0d74-4813-98e3-8def742bcbd4"
      },
      "execution_count": 30,
      "outputs": [
        {
          "output_type": "execute_result",
          "data": {
            "text/plain": [
              "['adoro porqu deixa pele macia gosto porqu deixa pele cheirosa gosto porqu deixa pele gostosa',\n",
              " 'uso deixa pele assim macia suav gostosa agora novo perfum nova embalagem sensacion',\n",
              " 'chegaram nova fragrancia inspirada tradicao orient flor cerejeira',\n",
              " 'dizem jeito romantico declarar amor colocar verso petala flor carib falei momento perfeito cria voce arrisques amor novo',\n",
              " 'deixa pele macia cheirosa gostosa principalment hidratada voce tambem quer ter pele bonita bem tratada use',\n",
              " 'flore colhida ant amanhec estao perfumada criamo revel lado ousado',\n",
              " 'poderoso encontrei protecao contra suor mal cheiro tornar homem legendario assim vencer barreira homem anim',\n",
              " 'descubra forca sentirs bem propria pele nova linha cuidado pessoai perfumaria',\n",
              " 'novo refrescant cabelo barba multifuncion pre po barba fragrancia amadeirada frescor intenso elo bem',\n",
              " 'toda emocao busca aventura agrest refrescant siga instinto',\n",
              " 'foco faz vencer desafio vencer caspa oleosidad coceira use tre veze acao anticaspa cabelo limpo dia todo encontr poder melhor versao',\n",
              " 'prometo amar respeitar cuidar voce prometo seguir sentir energia prometo levar voce mim todo dia sinta potencia frescor agora nova embalagem feita plastico retirado litor']"
            ]
          },
          "metadata": {},
          "execution_count": 30
        }
      ]
    },
    {
      "cell_type": "markdown",
      "source": [
        "Só para mostrar toda a transformação que realizamos em nosso texto, vamos relembrar como era o trecho de uma das propagandas antes do pré-processamento:\n",
        "\n",
        "- _Eu uso -. É o - que deixa a minha pele assim, macia, suave, gostosa. E agora - tem novos perfumes, e essa nova embalagem. Sensacional._\n",
        "\n",
        "E agora, após a stemização:\n",
        "- _uso deixa pele assim macia suav gostosa agora novo perfum nova embalagem sensacion_"
      ],
      "metadata": {
        "id": "sQTNi5AADOIV"
      }
    },
    {
      "cell_type": "markdown",
      "source": [
        "###<font color='#0660a2'> Lematização (com SpaCy)"
      ],
      "metadata": {
        "id": "sZH3DkCgE6W-"
      }
    },
    {
      "cell_type": "markdown",
      "source": [
        "Reduz as palavras a suas \"formas básicas\", isto é, infinitivo para os verbos e do masculino singular no caso de substantivos e adjetivos. Ao contrário da stemização, o resultado da lematização é sempre uma forma dicionarizada.\n"
      ],
      "metadata": {
        "id": "4KFfDJu5HH4a"
      }
    },
    {
      "cell_type": "code",
      "source": [
        "# Fazendo o download do SpaCy (ao contrário do NTLK, não vem no colab):\n",
        "!pip install -U spacy\n",
        "import spacy\n",
        "!python -m spacy download pt_core_news_lg\n",
        "\n",
        "# Carregando e nomeando o modelo de linguagem:\n",
        "spc = spacy.load('pt_core_news_lg')\n",
        "\n",
        "# Lematizando o texto:\n",
        "lemma_list = [[] for i in range(len(df.copia))]\n",
        "for i in range(len(df.copia)):\n",
        "  tokens_spc = spc(\" \".join(df.copia[i]))\n",
        "  for token in tokens_spc:\n",
        "      lemma_list[i].append(token.lemma_)\n",
        "\n",
        "# Juntando a lista de listas de palavras em uma lista de sentenças:\n",
        "lemma_text = []\n",
        "for i in lemma_list:\n",
        "     lemma_text.append(' '.join(i))"
      ],
      "metadata": {
        "id": "NIb8JajTG7Be",
        "colab": {
          "base_uri": "https://localhost:8080/"
        },
        "outputId": "43f39da0-f29e-4ff1-cad6-fb256d52ce68"
      },
      "execution_count": 31,
      "outputs": [
        {
          "output_type": "stream",
          "name": "stdout",
          "text": [
            "2023-11-15 18:33:01.421738: E tensorflow/compiler/xla/stream_executor/cuda/cuda_dnn.cc:9342] Unable to register cuDNN factory: Attempting to register factory for plugin cuDNN when one has already been registered\n",
            "2023-11-15 18:33:01.421826: E tensorflow/compiler/xla/stream_executor/cuda/cuda_fft.cc:609] Unable to register cuFFT factory: Attempting to register factory for plugin cuFFT when one has already been registered\n",
            "2023-11-15 18:33:01.421872: E tensorflow/compiler/xla/stream_executor/cuda/cuda_blas.cc:1518] Unable to register cuBLAS factory: Attempting to register factory for plugin cuBLAS when one has already been registered\n",
            "2023-11-15 18:33:02.825912: W tensorflow/compiler/tf2tensorrt/utils/py_utils.cc:38] TF-TRT Warning: Could not find TensorRT\n",
            "Collecting pt-core-news-lg==3.7.0\n",
            "  Downloading https://github.com/explosion/spacy-models/releases/download/pt_core_news_lg-3.7.0/pt_core_news_lg-3.7.0-py3-none-any.whl (568.2 MB)\n",
            "\u001b[2K     \u001b[90m━━━━━━━━━━━━━━━━━━━━━━━━━━━━━━━━━━━━━━━━\u001b[0m \u001b[32m568.2/568.2 MB\u001b[0m \u001b[31m2.6 MB/s\u001b[0m eta \u001b[36m0:00:00\u001b[0m\n",
            "\u001b[?25hRequirement already satisfied: spacy<3.8.0,>=3.7.0 in /usr/local/lib/python3.10/dist-packages (from pt-core-news-lg==3.7.0) (3.7.2)\n",
            "Requirement already satisfied: spacy-legacy<3.1.0,>=3.0.11 in /usr/local/lib/python3.10/dist-packages (from spacy<3.8.0,>=3.7.0->pt-core-news-lg==3.7.0) (3.0.12)\n",
            "Requirement already satisfied: spacy-loggers<2.0.0,>=1.0.0 in /usr/local/lib/python3.10/dist-packages (from spacy<3.8.0,>=3.7.0->pt-core-news-lg==3.7.0) (1.0.5)\n",
            "Requirement already satisfied: murmurhash<1.1.0,>=0.28.0 in /usr/local/lib/python3.10/dist-packages (from spacy<3.8.0,>=3.7.0->pt-core-news-lg==3.7.0) (1.0.10)\n",
            "Requirement already satisfied: cymem<2.1.0,>=2.0.2 in /usr/local/lib/python3.10/dist-packages (from spacy<3.8.0,>=3.7.0->pt-core-news-lg==3.7.0) (2.0.8)\n",
            "Requirement already satisfied: preshed<3.1.0,>=3.0.2 in /usr/local/lib/python3.10/dist-packages (from spacy<3.8.0,>=3.7.0->pt-core-news-lg==3.7.0) (3.0.9)\n",
            "Requirement already satisfied: thinc<8.3.0,>=8.1.8 in /usr/local/lib/python3.10/dist-packages (from spacy<3.8.0,>=3.7.0->pt-core-news-lg==3.7.0) (8.1.12)\n",
            "Requirement already satisfied: wasabi<1.2.0,>=0.9.1 in /usr/local/lib/python3.10/dist-packages (from spacy<3.8.0,>=3.7.0->pt-core-news-lg==3.7.0) (1.1.2)\n",
            "Requirement already satisfied: srsly<3.0.0,>=2.4.3 in /usr/local/lib/python3.10/dist-packages (from spacy<3.8.0,>=3.7.0->pt-core-news-lg==3.7.0) (2.4.8)\n",
            "Requirement already satisfied: catalogue<2.1.0,>=2.0.6 in /usr/local/lib/python3.10/dist-packages (from spacy<3.8.0,>=3.7.0->pt-core-news-lg==3.7.0) (2.0.10)\n",
            "Requirement already satisfied: weasel<0.4.0,>=0.1.0 in /usr/local/lib/python3.10/dist-packages (from spacy<3.8.0,>=3.7.0->pt-core-news-lg==3.7.0) (0.3.4)\n",
            "Requirement already satisfied: typer<0.10.0,>=0.3.0 in /usr/local/lib/python3.10/dist-packages (from spacy<3.8.0,>=3.7.0->pt-core-news-lg==3.7.0) (0.9.0)\n",
            "Requirement already satisfied: smart-open<7.0.0,>=5.2.1 in /usr/local/lib/python3.10/dist-packages (from spacy<3.8.0,>=3.7.0->pt-core-news-lg==3.7.0) (6.4.0)\n",
            "Requirement already satisfied: tqdm<5.0.0,>=4.38.0 in /usr/local/lib/python3.10/dist-packages (from spacy<3.8.0,>=3.7.0->pt-core-news-lg==3.7.0) (4.66.1)\n",
            "Requirement already satisfied: requests<3.0.0,>=2.13.0 in /usr/local/lib/python3.10/dist-packages (from spacy<3.8.0,>=3.7.0->pt-core-news-lg==3.7.0) (2.31.0)\n",
            "Requirement already satisfied: pydantic!=1.8,!=1.8.1,<3.0.0,>=1.7.4 in /usr/local/lib/python3.10/dist-packages (from spacy<3.8.0,>=3.7.0->pt-core-news-lg==3.7.0) (1.10.13)\n",
            "Requirement already satisfied: jinja2 in /usr/local/lib/python3.10/dist-packages (from spacy<3.8.0,>=3.7.0->pt-core-news-lg==3.7.0) (3.1.2)\n",
            "Requirement already satisfied: setuptools in /usr/local/lib/python3.10/dist-packages (from spacy<3.8.0,>=3.7.0->pt-core-news-lg==3.7.0) (67.7.2)\n",
            "Requirement already satisfied: packaging>=20.0 in /usr/local/lib/python3.10/dist-packages (from spacy<3.8.0,>=3.7.0->pt-core-news-lg==3.7.0) (23.2)\n",
            "Requirement already satisfied: langcodes<4.0.0,>=3.2.0 in /usr/local/lib/python3.10/dist-packages (from spacy<3.8.0,>=3.7.0->pt-core-news-lg==3.7.0) (3.3.0)\n",
            "Requirement already satisfied: numpy>=1.19.0 in /usr/local/lib/python3.10/dist-packages (from spacy<3.8.0,>=3.7.0->pt-core-news-lg==3.7.0) (1.23.5)\n",
            "Requirement already satisfied: typing-extensions>=4.2.0 in /usr/local/lib/python3.10/dist-packages (from pydantic!=1.8,!=1.8.1,<3.0.0,>=1.7.4->spacy<3.8.0,>=3.7.0->pt-core-news-lg==3.7.0) (4.5.0)\n",
            "Requirement already satisfied: charset-normalizer<4,>=2 in /usr/local/lib/python3.10/dist-packages (from requests<3.0.0,>=2.13.0->spacy<3.8.0,>=3.7.0->pt-core-news-lg==3.7.0) (3.3.2)\n",
            "Requirement already satisfied: idna<4,>=2.5 in /usr/local/lib/python3.10/dist-packages (from requests<3.0.0,>=2.13.0->spacy<3.8.0,>=3.7.0->pt-core-news-lg==3.7.0) (3.4)\n",
            "Requirement already satisfied: urllib3<3,>=1.21.1 in /usr/local/lib/python3.10/dist-packages (from requests<3.0.0,>=2.13.0->spacy<3.8.0,>=3.7.0->pt-core-news-lg==3.7.0) (2.0.7)\n",
            "Requirement already satisfied: certifi>=2017.4.17 in /usr/local/lib/python3.10/dist-packages (from requests<3.0.0,>=2.13.0->spacy<3.8.0,>=3.7.0->pt-core-news-lg==3.7.0) (2023.7.22)\n",
            "Requirement already satisfied: blis<0.8.0,>=0.7.8 in /usr/local/lib/python3.10/dist-packages (from thinc<8.3.0,>=8.1.8->spacy<3.8.0,>=3.7.0->pt-core-news-lg==3.7.0) (0.7.11)\n",
            "Requirement already satisfied: confection<1.0.0,>=0.0.1 in /usr/local/lib/python3.10/dist-packages (from thinc<8.3.0,>=8.1.8->spacy<3.8.0,>=3.7.0->pt-core-news-lg==3.7.0) (0.1.3)\n",
            "Requirement already satisfied: click<9.0.0,>=7.1.1 in /usr/local/lib/python3.10/dist-packages (from typer<0.10.0,>=0.3.0->spacy<3.8.0,>=3.7.0->pt-core-news-lg==3.7.0) (8.1.7)\n",
            "Requirement already satisfied: cloudpathlib<0.17.0,>=0.7.0 in /usr/local/lib/python3.10/dist-packages (from weasel<0.4.0,>=0.1.0->spacy<3.8.0,>=3.7.0->pt-core-news-lg==3.7.0) (0.16.0)\n",
            "Requirement already satisfied: MarkupSafe>=2.0 in /usr/local/lib/python3.10/dist-packages (from jinja2->spacy<3.8.0,>=3.7.0->pt-core-news-lg==3.7.0) (2.1.3)\n",
            "Installing collected packages: pt-core-news-lg\n",
            "Successfully installed pt-core-news-lg-3.7.0\n",
            "\u001b[38;5;2m✔ Download and installation successful\u001b[0m\n",
            "You can now load the package via spacy.load('pt_core_news_lg')\n"
          ]
        }
      ]
    },
    {
      "cell_type": "markdown",
      "source": [
        "E, de novo, para fins de comparação, assim era a propaganda antes do pré-processamento:\n",
        "- _Eu uso -. É o - que deixa a minha pele assim, macia, suave, gostosa. E agora - tem novos perfumes, e essa nova embalagem. Sensacional._\n",
        "\n",
        "E é assim que ela está agora (com lematização):\n",
        "- _uso deixar pele assim macio suave gostoso agora novo perfume novo embalagem sensacional_"
      ],
      "metadata": {
        "id": "2Pa0gxltCXAQ"
      }
    },
    {
      "cell_type": "code",
      "source": [
        "lemma_text"
      ],
      "metadata": {
        "id": "kGGrNrqAH4Y2",
        "colab": {
          "base_uri": "https://localhost:8080/"
        },
        "outputId": "221be253-91c9-419c-e7e1-7c1ec4e86925"
      },
      "execution_count": 32,
      "outputs": [
        {
          "output_type": "execute_result",
          "data": {
            "text/plain": [
              "['adorar porque deixar pele macio gosto porque deixar pele cheiroso gosto porque deixar pele gostoso',\n",
              " 'uso deixar pele assim macio suave gostoso agora novo perfume novo embalagem sensacional',\n",
              " 'chegar novo fragrancia inspirar tradicao oriental flor Cerejeira',\n",
              " 'dizer jeito romantico declarar amor colocar verso petala flor caribe falar momento perfeito criar voce Arrisquese amor novo',\n",
              " 'deixar pele macio cheiroso gostoso principalmente hidratar voce tambem querer ter pele bonito bem tratar usar',\n",
              " 'flor colher antes amanhecer estao perfumada criar revelar lado ousar',\n",
              " 'poderoso encontrar protecao contra suor mal cheiro tornar homem legendario assim vencer barreira homem animal',\n",
              " 'descubra forca sentirse bem proprio pele novo linha cuidar pessoal perfumar',\n",
              " 'novo refrescante cabelo barba multifuncional pre pos barbo Fragrancia amadeirar frescor intenso elo bem',\n",
              " 'todo Emocao buscar aventura agreste refrescante siga instinto',\n",
              " 'foco fazer vencer desafio vencer caspa oleosidade coceiro usar tres vez acao anticaspa cabelo limpo dia todo encontrar poder bom versao',\n",
              " 'prometer amar respeitar cuidar voce prometar seguir sentir energia prometer levar voce eu todo dia sinta potencia frescor agora novo embalagem fazer plastico retirar litoral']"
            ]
          },
          "metadata": {},
          "execution_count": 32
        }
      ]
    },
    {
      "cell_type": "markdown",
      "source": [
        "##<font color='#0660a2'> **Exercício para treino!!**"
      ],
      "metadata": {
        "id": "6xVNkIKxH6mx"
      }
    },
    {
      "cell_type": "markdown",
      "source": [
        "Para treinar não só as suas habilidades de Python como também verificar o que você aprendeu sobre pré-processamento, você pode praticar com este pequeno texto:"
      ],
      "metadata": {
        "id": "Lkol6cFNJFqx"
      }
    },
    {
      "cell_type": "code",
      "source": [
        "texto = 'Pense rápido: qual era seu brinquedo favorito? É provável que, caso você seja mulher, a resposta seja boneca ou panelinhas. Se você é homem, possivelmente respondeu à pergunta lembrando de videogames ou computadores. Essa divisão, considerada natural por muitos, reflete estereótipos de gênero construídos historicamente, que delegam às garotas, desde cedo, tarefas e interesses relacionados à esfera do cuidado e ao âmbito privado. “Não podia brincar com meus primos e irmãos. Era presenteada com bonecas e objetos cor-de-rosa, que eu detestava\", conta a analista de sistemas Larissa Pereira Gambale, 22 anos. Já a designer de produto Lucía Salamanca, 27 anos, cansou de ouvir: “você não pode ser igual aos meninos”, “olha, ralou o joelho...Parece moleque!”, “Tente ser mais feminina…”.'"
      ],
      "metadata": {
        "id": "J-B6oTp7_KEa"
      },
      "execution_count": 33,
      "outputs": []
    },
    {
      "cell_type": "markdown",
      "source": [
        "*(fonte: https://www.programaria.org/especiais/mulheres-tecnologia/)*"
      ],
      "metadata": {
        "id": "617dbmN3OJFO"
      }
    },
    {
      "cell_type": "markdown",
      "source": [
        "A sua tarefa será criar uma função que realize a limpeza desses dados textuais (tokenização; conversão para caixa baixa; remoção de palavras vazias, pontuações, acentuações e caracteres especiais) utilizando apenas as bibliotecas já indicadas abaixo. Vamos lá?"
      ],
      "metadata": {
        "id": "3fALsM7K_M3Q"
      }
    },
    {
      "cell_type": "code",
      "source": [
        "### OBS: note que, novamente, estamos indicando o uso da biblioteca NLTK; porém, vale lembrar que também seria possível ###\n",
        "### realizar o pré-processamento com o spaCy, que tem seu próprio tokenizador e sua própria lista de palavras vazias.   ###\n",
        "\n",
        "# Importando as dependências necessárias:\n",
        "import nltk\n",
        "nltk.download('punkt')\n",
        "nltk.download('stopwords')\n",
        "from nltk.tokenize import word_tokenize\n",
        "from nltk.corpus import stopwords\n",
        "\n",
        "# Acessando a lista de stopwords do português:\n",
        "stopwords = nltk.corpus.stopwords.words('portuguese')\n",
        "\n",
        "\n",
        "###############\n",
        "\n",
        "# Sua função:\n"
      ],
      "metadata": {
        "id": "wR_2lAVKABh3",
        "colab": {
          "base_uri": "https://localhost:8080/"
        },
        "outputId": "6f7c13ab-82a7-471e-e206-93e9a5eb6cb6"
      },
      "execution_count": 34,
      "outputs": [
        {
          "output_type": "stream",
          "name": "stderr",
          "text": [
            "[nltk_data] Downloading package punkt to /root/nltk_data...\n",
            "[nltk_data]   Package punkt is already up-to-date!\n",
            "[nltk_data] Downloading package stopwords to /root/nltk_data...\n",
            "[nltk_data]   Package stopwords is already up-to-date!\n"
          ]
        }
      ]
    },
    {
      "cell_type": "markdown",
      "source": [
        "##<font color='#0660a2'> **Bag-of-words**"
      ],
      "metadata": {
        "id": "AXahIPa2nMSz"
      }
    },
    {
      "cell_type": "markdown",
      "source": [
        "Agora que nossos dados estão limpos e pré-processados, resta apenas uma etapa para que o computador seja capaz de processar nosso texto: precisamos vetorizar os dados - ou, no nosso caso, simplesmente transformar as palavras em números. Existem várias formas de se transformar um conteúdo textual em algo operacionalizável pelo computador, mas, neste curso, utilizaremos a representação simplificada Bag-Of-Words (BOW, ou \"saco-de-palavras\"). A ideia por trás desse modelo é a de criar um vetor para um documento contando a frequência das palavras que aparecem nele, sem considerar qualquer informação sobre a estrutura gramatical ou a ordem dos vocábulos. Isso resulta em um conjunto de contagens que indicam quais formas estão presentes ou ausentes no texto.\n",
        "\n",
        "Embora essa técnica apresente grandes limitações, não capturando informações semânticas importantes do contexto, veremos como ela é facilmente aplicável e pode, sim, obter bons resultados quando aplicadas no problema correto! Vamos, então, obter nosso \"saco-de-palavras\":"
      ],
      "metadata": {
        "id": "tV9rqNYrzE42"
      }
    },
    {
      "cell_type": "code",
      "source": [
        "### OBS: não se preocupem em entender exatamente o que está acontecendo em cada linha da função porque ela nada mais é do que uma receitinha de bolo! ###\n",
        "\n",
        "# Importando as dependências necessárias (biblioteca nova!!!):\n",
        "from sklearn.feature_extraction.text import CountVectorizer    # \"from\" porque precisamos de algo específico dessa biblioteca.\n",
        "\n",
        "def bow(textos):\n",
        "  \"\"\" Entrada: uma lista de textos limpos.\n",
        "  Saída: um vetor que indica quais são as palavras presentes nos textos e a quantidade de vezes que tais vocábulos aparecem. \"\"\"\n",
        "  vectorizer = CountVectorizer()    # Cria um objeto do tipo \"Vetor de Contagem\".\n",
        "  frequencies = vectorizer.fit_transform(textos).toarray()    # Método \"fit_transform\" configura o CountVectorizer para transformar e ajustar o vocabulário em contagem.\n",
        "  return frequencies\n",
        "\n",
        "# Aplicando a função de BOW nos nossos dados:\n",
        "bow_stem = bow(porter_text)\n",
        "bow_lema = bow(lemma_text)"
      ],
      "metadata": {
        "id": "vemOmkfgu2B_"
      },
      "execution_count": 35,
      "outputs": []
    },
    {
      "cell_type": "code",
      "source": [
        "print('Primeiro bow: \\n', bow_stem)\n",
        "\n",
        "print('\\n Segundo bow: \\n', bow_lema)"
      ],
      "metadata": {
        "colab": {
          "base_uri": "https://localhost:8080/"
        },
        "id": "YEyYOznCx5TG",
        "outputId": "c5252e27-35cc-4b44-f3f9-65655b77d2c3"
      },
      "execution_count": 36,
      "outputs": [
        {
          "output_type": "stream",
          "name": "stdout",
          "text": [
            "Primeiro bow: \n",
            " [[0 1 0 ... 0 0 0]\n",
            " [0 0 1 ... 0 0 0]\n",
            " [0 0 0 ... 0 0 0]\n",
            " ...\n",
            " [0 0 0 ... 0 0 0]\n",
            " [1 0 0 ... 0 1 0]\n",
            " [0 0 1 ... 0 0 2]]\n",
            "\n",
            " Segundo bow: \n",
            " [[0 1 0 ... 0 0 0]\n",
            " [0 0 1 ... 0 0 0]\n",
            " [0 0 0 ... 0 0 0]\n",
            " ...\n",
            " [0 0 0 ... 0 0 0]\n",
            " [1 0 0 ... 0 1 0]\n",
            " [0 0 1 ... 0 0 2]]\n"
          ]
        }
      ]
    }
  ]
}